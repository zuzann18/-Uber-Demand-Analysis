{
  "cells": [
    {
      "cell_type": "markdown",
      "metadata": {
        "id": "view-in-github",
        "colab_type": "text"
      },
      "source": [
        "<a href=\"https://colab.research.google.com/github/zuzann18/Uber-Demand-Analysis/blob/main/Uber_Case_Study.ipynb\" target=\"_parent\"><img src=\"https://colab.research.google.com/assets/colab-badge.svg\" alt=\"Open In Colab\"/></a>"
      ]
    },
    {
      "cell_type": "markdown",
      "metadata": {
        "id": "UkQi885kC8VU"
      },
      "source": [
        "-------------------------------------\n",
        "# **Uber Data Analysis**\n",
        "-------------------------------------"
      ]
    },
    {
      "cell_type": "markdown",
      "metadata": {
        "id": "dvt3gPFODuc4"
      },
      "source": [
        "--------------------\n",
        "## **Context**\n",
        "--------------------\n",
        "\n",
        "Uber Technologies, Inc. is an American multinational transportation network company based in San Francisco and has operations in approximately 72 countries and 10,500 cities. In the fourth quarter of 2021, Uber had 118 million monthly active users worldwide and generated an average of 19 million trips per day.\n",
        "\n",
        "Ridesharing is a very volatile market and demand fluctuates wildly with time, place, weather, local events, etc. The key to being successful in this business is to be able to detect patterns in these fluctuations and cater to the demand at any given time.\n",
        "\n",
        "As a newly hired Data Scientist in Uber's New York Office, you have been given the task of extracting insights from data that will help the business better understand the demand profile and take appropriate actions to drive better outcomes for the business. Your goal is to identify good insights that are potentially actionable, i.e., the business can do something with it.\n",
        "\n",
        "------------------\n",
        "## **Objective**\n",
        "------------------\n",
        "\n",
        "To extract actionable insights around demand patterns across various factors.\n",
        "\n",
        "-----------------------------\n",
        "## **Key Questions**\n",
        "-----------------------------\n",
        "\n",
        "1. What are the different variables that influence pickups?\n",
        "2. Which factor affects the pickups the most? What could be plausible reasons for that?\n",
        "3. What are your recommendations to Uber management to capitalize on fluctuating demand?\n",
        "\n",
        "------------------------------------\n",
        "## **Dataset Description**\n",
        "------------------------------------\n",
        "\n",
        "The data contains information about the weather, location, and pickups.\n",
        "\n",
        "* pickup_dt: Date and time of the pick-up\n",
        "* borough: NYC's borough\n",
        "* pickups: Number of pickups for the period (1 hour)\n",
        "* spd: Wind speed in miles/hour\n",
        "* vsb: Visibility in miles to the nearest tenth\n",
        "* temp: Temperature in Fahrenheit\n",
        "* dewp: Dew point in Fahrenheit\n",
        "* slp: Sea level pressure\n",
        "* pcp01: 1-hour liquid precipitation\n",
        "* pcp06: 6-hour liquid precipitation\n",
        "* pcp24: 24-hour liquid precipitation\n",
        "* sd: Snow depth in inches\n",
        "* hday: Being a holiday (Y) or not (N)"
      ]
    },
    {
      "cell_type": "markdown",
      "metadata": {
        "id": "cuFlvhPwCmL3"
      },
      "source": [
        "##  **Importing the necessary libraries and overview of the dataset**"
      ]
    },
    {
      "cell_type": "code",
      "execution_count": 111,
      "metadata": {
        "id": "FRv6soIMCmL4"
      },
      "outputs": [],
      "source": [
        "# Library to suppress warnings\n",
        "import warnings\n",
        "warnings.filterwarnings('ignore')"
      ]
    },
    {
      "cell_type": "code",
      "execution_count": 112,
      "metadata": {
        "id": "xwOVK2hbCmL8"
      },
      "outputs": [],
      "source": [
        "# Libraries to help with reading and manipulating data\n",
        "import pandas as pd\n",
        "import numpy as np\n",
        "import matplotlib.pyplot as plt\n",
        "\n",
        "# Libraries to help with data visualization\n",
        "import seaborn as sns\n",
        "import matplotlib.pyplot as plt\n",
        "%matplotlib inline\n",
        "\n",
        "# Library to extract datetime features\n",
        "import datetime as dt"
      ]
    },
    {
      "cell_type": "code",
      "execution_count": 113,
      "metadata": {
        "colab": {
          "base_uri": "https://localhost:8080/"
        },
        "id": "mi962fBvdzcS",
        "outputId": "7c3908c3-6db9-45bd-b099-90eb2857326a"
      },
      "outputs": [
        {
          "output_type": "stream",
          "name": "stdout",
          "text": [
            "Drive already mounted at /content/drive; to attempt to forcibly remount, call drive.mount(\"/content/drive\", force_remount=True).\n"
          ]
        }
      ],
      "source": [
        "from google.colab import drive\n",
        "drive.mount('/content/drive')"
      ]
    },
    {
      "cell_type": "markdown",
      "metadata": {
        "id": "ikTvAOfVCmL_"
      },
      "source": [
        "### **Loading the dataset**"
      ]
    },
    {
      "cell_type": "code",
      "execution_count": 114,
      "metadata": {
        "id": "rOGD4EvwCmL_"
      },
      "outputs": [],
      "source": [
        "data = pd.read_csv('/content/Uber.csv')"
      ]
    },
    {
      "cell_type": "code",
      "execution_count": 115,
      "metadata": {
        "id": "1UXsOeJoCmMC"
      },
      "outputs": [],
      "source": [
        "# Copying data to another variable to avoid any changes to the original data\n",
        "df = data.copy()"
      ]
    },
    {
      "cell_type": "markdown",
      "metadata": {
        "id": "-zQAz_0LCmME"
      },
      "source": [
        "### **View the first 5 rows of the dataset**"
      ]
    },
    {
      "cell_type": "code",
      "execution_count": 116,
      "metadata": {
        "colab": {
          "base_uri": "https://localhost:8080/",
          "height": 206
        },
        "id": "HjwECjgXCmME",
        "outputId": "17e08442-342f-4c05-8785-7144caf4e3b1"
      },
      "outputs": [
        {
          "output_type": "execute_result",
          "data": {
            "text/plain": [
              "             pickup_dt    borough  pickups  spd   vsb  temp  dewp     slp  \\\n",
              "0  2015-01-01 01:00:00      Bronx      152  5.0  10.0  30.0   7.0  1023.5   \n",
              "1  2015-01-01 01:00:00   Brooklyn     1519  5.0  10.0  30.0   7.0  1023.5   \n",
              "2  2015-01-01 01:00:00        EWR        0  5.0  10.0  30.0   7.0  1023.5   \n",
              "3  2015-01-01 01:00:00  Manhattan     5258  5.0  10.0  30.0   7.0  1023.5   \n",
              "4  2015-01-01 01:00:00     Queens      405  5.0  10.0  30.0   7.0  1023.5   \n",
              "\n",
              "   pcp01  pcp06  pcp24   sd hday  \n",
              "0    0.0    0.0    0.0  0.0    Y  \n",
              "1    0.0    0.0    0.0  0.0    Y  \n",
              "2    0.0    0.0    0.0  0.0    Y  \n",
              "3    0.0    0.0    0.0  0.0    Y  \n",
              "4    0.0    0.0    0.0  0.0    Y  "
            ],
            "text/html": [
              "\n",
              "  <div id=\"df-a0c3ad9c-6a34-418b-9ba2-e2f69271fa74\" class=\"colab-df-container\">\n",
              "    <div>\n",
              "<style scoped>\n",
              "    .dataframe tbody tr th:only-of-type {\n",
              "        vertical-align: middle;\n",
              "    }\n",
              "\n",
              "    .dataframe tbody tr th {\n",
              "        vertical-align: top;\n",
              "    }\n",
              "\n",
              "    .dataframe thead th {\n",
              "        text-align: right;\n",
              "    }\n",
              "</style>\n",
              "<table border=\"1\" class=\"dataframe\">\n",
              "  <thead>\n",
              "    <tr style=\"text-align: right;\">\n",
              "      <th></th>\n",
              "      <th>pickup_dt</th>\n",
              "      <th>borough</th>\n",
              "      <th>pickups</th>\n",
              "      <th>spd</th>\n",
              "      <th>vsb</th>\n",
              "      <th>temp</th>\n",
              "      <th>dewp</th>\n",
              "      <th>slp</th>\n",
              "      <th>pcp01</th>\n",
              "      <th>pcp06</th>\n",
              "      <th>pcp24</th>\n",
              "      <th>sd</th>\n",
              "      <th>hday</th>\n",
              "    </tr>\n",
              "  </thead>\n",
              "  <tbody>\n",
              "    <tr>\n",
              "      <th>0</th>\n",
              "      <td>2015-01-01 01:00:00</td>\n",
              "      <td>Bronx</td>\n",
              "      <td>152</td>\n",
              "      <td>5.0</td>\n",
              "      <td>10.0</td>\n",
              "      <td>30.0</td>\n",
              "      <td>7.0</td>\n",
              "      <td>1023.5</td>\n",
              "      <td>0.0</td>\n",
              "      <td>0.0</td>\n",
              "      <td>0.0</td>\n",
              "      <td>0.0</td>\n",
              "      <td>Y</td>\n",
              "    </tr>\n",
              "    <tr>\n",
              "      <th>1</th>\n",
              "      <td>2015-01-01 01:00:00</td>\n",
              "      <td>Brooklyn</td>\n",
              "      <td>1519</td>\n",
              "      <td>5.0</td>\n",
              "      <td>10.0</td>\n",
              "      <td>30.0</td>\n",
              "      <td>7.0</td>\n",
              "      <td>1023.5</td>\n",
              "      <td>0.0</td>\n",
              "      <td>0.0</td>\n",
              "      <td>0.0</td>\n",
              "      <td>0.0</td>\n",
              "      <td>Y</td>\n",
              "    </tr>\n",
              "    <tr>\n",
              "      <th>2</th>\n",
              "      <td>2015-01-01 01:00:00</td>\n",
              "      <td>EWR</td>\n",
              "      <td>0</td>\n",
              "      <td>5.0</td>\n",
              "      <td>10.0</td>\n",
              "      <td>30.0</td>\n",
              "      <td>7.0</td>\n",
              "      <td>1023.5</td>\n",
              "      <td>0.0</td>\n",
              "      <td>0.0</td>\n",
              "      <td>0.0</td>\n",
              "      <td>0.0</td>\n",
              "      <td>Y</td>\n",
              "    </tr>\n",
              "    <tr>\n",
              "      <th>3</th>\n",
              "      <td>2015-01-01 01:00:00</td>\n",
              "      <td>Manhattan</td>\n",
              "      <td>5258</td>\n",
              "      <td>5.0</td>\n",
              "      <td>10.0</td>\n",
              "      <td>30.0</td>\n",
              "      <td>7.0</td>\n",
              "      <td>1023.5</td>\n",
              "      <td>0.0</td>\n",
              "      <td>0.0</td>\n",
              "      <td>0.0</td>\n",
              "      <td>0.0</td>\n",
              "      <td>Y</td>\n",
              "    </tr>\n",
              "    <tr>\n",
              "      <th>4</th>\n",
              "      <td>2015-01-01 01:00:00</td>\n",
              "      <td>Queens</td>\n",
              "      <td>405</td>\n",
              "      <td>5.0</td>\n",
              "      <td>10.0</td>\n",
              "      <td>30.0</td>\n",
              "      <td>7.0</td>\n",
              "      <td>1023.5</td>\n",
              "      <td>0.0</td>\n",
              "      <td>0.0</td>\n",
              "      <td>0.0</td>\n",
              "      <td>0.0</td>\n",
              "      <td>Y</td>\n",
              "    </tr>\n",
              "  </tbody>\n",
              "</table>\n",
              "</div>\n",
              "    <div class=\"colab-df-buttons\">\n",
              "\n",
              "  <div class=\"colab-df-container\">\n",
              "    <button class=\"colab-df-convert\" onclick=\"convertToInteractive('df-a0c3ad9c-6a34-418b-9ba2-e2f69271fa74')\"\n",
              "            title=\"Convert this dataframe to an interactive table.\"\n",
              "            style=\"display:none;\">\n",
              "\n",
              "  <svg xmlns=\"http://www.w3.org/2000/svg\" height=\"24px\" viewBox=\"0 -960 960 960\">\n",
              "    <path d=\"M120-120v-720h720v720H120Zm60-500h600v-160H180v160Zm220 220h160v-160H400v160Zm0 220h160v-160H400v160ZM180-400h160v-160H180v160Zm440 0h160v-160H620v160ZM180-180h160v-160H180v160Zm440 0h160v-160H620v160Z\"/>\n",
              "  </svg>\n",
              "    </button>\n",
              "\n",
              "  <style>\n",
              "    .colab-df-container {\n",
              "      display:flex;\n",
              "      gap: 12px;\n",
              "    }\n",
              "\n",
              "    .colab-df-convert {\n",
              "      background-color: #E8F0FE;\n",
              "      border: none;\n",
              "      border-radius: 50%;\n",
              "      cursor: pointer;\n",
              "      display: none;\n",
              "      fill: #1967D2;\n",
              "      height: 32px;\n",
              "      padding: 0 0 0 0;\n",
              "      width: 32px;\n",
              "    }\n",
              "\n",
              "    .colab-df-convert:hover {\n",
              "      background-color: #E2EBFA;\n",
              "      box-shadow: 0px 1px 2px rgba(60, 64, 67, 0.3), 0px 1px 3px 1px rgba(60, 64, 67, 0.15);\n",
              "      fill: #174EA6;\n",
              "    }\n",
              "\n",
              "    .colab-df-buttons div {\n",
              "      margin-bottom: 4px;\n",
              "    }\n",
              "\n",
              "    [theme=dark] .colab-df-convert {\n",
              "      background-color: #3B4455;\n",
              "      fill: #D2E3FC;\n",
              "    }\n",
              "\n",
              "    [theme=dark] .colab-df-convert:hover {\n",
              "      background-color: #434B5C;\n",
              "      box-shadow: 0px 1px 3px 1px rgba(0, 0, 0, 0.15);\n",
              "      filter: drop-shadow(0px 1px 2px rgba(0, 0, 0, 0.3));\n",
              "      fill: #FFFFFF;\n",
              "    }\n",
              "  </style>\n",
              "\n",
              "    <script>\n",
              "      const buttonEl =\n",
              "        document.querySelector('#df-a0c3ad9c-6a34-418b-9ba2-e2f69271fa74 button.colab-df-convert');\n",
              "      buttonEl.style.display =\n",
              "        google.colab.kernel.accessAllowed ? 'block' : 'none';\n",
              "\n",
              "      async function convertToInteractive(key) {\n",
              "        const element = document.querySelector('#df-a0c3ad9c-6a34-418b-9ba2-e2f69271fa74');\n",
              "        const dataTable =\n",
              "          await google.colab.kernel.invokeFunction('convertToInteractive',\n",
              "                                                    [key], {});\n",
              "        if (!dataTable) return;\n",
              "\n",
              "        const docLinkHtml = 'Like what you see? Visit the ' +\n",
              "          '<a target=\"_blank\" href=https://colab.research.google.com/notebooks/data_table.ipynb>data table notebook</a>'\n",
              "          + ' to learn more about interactive tables.';\n",
              "        element.innerHTML = '';\n",
              "        dataTable['output_type'] = 'display_data';\n",
              "        await google.colab.output.renderOutput(dataTable, element);\n",
              "        const docLink = document.createElement('div');\n",
              "        docLink.innerHTML = docLinkHtml;\n",
              "        element.appendChild(docLink);\n",
              "      }\n",
              "    </script>\n",
              "  </div>\n",
              "\n",
              "\n",
              "<div id=\"df-623b88f4-5369-4223-8c2e-26c83bdfb43d\">\n",
              "  <button class=\"colab-df-quickchart\" onclick=\"quickchart('df-623b88f4-5369-4223-8c2e-26c83bdfb43d')\"\n",
              "            title=\"Suggest charts\"\n",
              "            style=\"display:none;\">\n",
              "\n",
              "<svg xmlns=\"http://www.w3.org/2000/svg\" height=\"24px\"viewBox=\"0 0 24 24\"\n",
              "     width=\"24px\">\n",
              "    <g>\n",
              "        <path d=\"M19 3H5c-1.1 0-2 .9-2 2v14c0 1.1.9 2 2 2h14c1.1 0 2-.9 2-2V5c0-1.1-.9-2-2-2zM9 17H7v-7h2v7zm4 0h-2V7h2v10zm4 0h-2v-4h2v4z\"/>\n",
              "    </g>\n",
              "</svg>\n",
              "  </button>\n",
              "\n",
              "<style>\n",
              "  .colab-df-quickchart {\n",
              "      --bg-color: #E8F0FE;\n",
              "      --fill-color: #1967D2;\n",
              "      --hover-bg-color: #E2EBFA;\n",
              "      --hover-fill-color: #174EA6;\n",
              "      --disabled-fill-color: #AAA;\n",
              "      --disabled-bg-color: #DDD;\n",
              "  }\n",
              "\n",
              "  [theme=dark] .colab-df-quickchart {\n",
              "      --bg-color: #3B4455;\n",
              "      --fill-color: #D2E3FC;\n",
              "      --hover-bg-color: #434B5C;\n",
              "      --hover-fill-color: #FFFFFF;\n",
              "      --disabled-bg-color: #3B4455;\n",
              "      --disabled-fill-color: #666;\n",
              "  }\n",
              "\n",
              "  .colab-df-quickchart {\n",
              "    background-color: var(--bg-color);\n",
              "    border: none;\n",
              "    border-radius: 50%;\n",
              "    cursor: pointer;\n",
              "    display: none;\n",
              "    fill: var(--fill-color);\n",
              "    height: 32px;\n",
              "    padding: 0;\n",
              "    width: 32px;\n",
              "  }\n",
              "\n",
              "  .colab-df-quickchart:hover {\n",
              "    background-color: var(--hover-bg-color);\n",
              "    box-shadow: 0 1px 2px rgba(60, 64, 67, 0.3), 0 1px 3px 1px rgba(60, 64, 67, 0.15);\n",
              "    fill: var(--button-hover-fill-color);\n",
              "  }\n",
              "\n",
              "  .colab-df-quickchart-complete:disabled,\n",
              "  .colab-df-quickchart-complete:disabled:hover {\n",
              "    background-color: var(--disabled-bg-color);\n",
              "    fill: var(--disabled-fill-color);\n",
              "    box-shadow: none;\n",
              "  }\n",
              "\n",
              "  .colab-df-spinner {\n",
              "    border: 2px solid var(--fill-color);\n",
              "    border-color: transparent;\n",
              "    border-bottom-color: var(--fill-color);\n",
              "    animation:\n",
              "      spin 1s steps(1) infinite;\n",
              "  }\n",
              "\n",
              "  @keyframes spin {\n",
              "    0% {\n",
              "      border-color: transparent;\n",
              "      border-bottom-color: var(--fill-color);\n",
              "      border-left-color: var(--fill-color);\n",
              "    }\n",
              "    20% {\n",
              "      border-color: transparent;\n",
              "      border-left-color: var(--fill-color);\n",
              "      border-top-color: var(--fill-color);\n",
              "    }\n",
              "    30% {\n",
              "      border-color: transparent;\n",
              "      border-left-color: var(--fill-color);\n",
              "      border-top-color: var(--fill-color);\n",
              "      border-right-color: var(--fill-color);\n",
              "    }\n",
              "    40% {\n",
              "      border-color: transparent;\n",
              "      border-right-color: var(--fill-color);\n",
              "      border-top-color: var(--fill-color);\n",
              "    }\n",
              "    60% {\n",
              "      border-color: transparent;\n",
              "      border-right-color: var(--fill-color);\n",
              "    }\n",
              "    80% {\n",
              "      border-color: transparent;\n",
              "      border-right-color: var(--fill-color);\n",
              "      border-bottom-color: var(--fill-color);\n",
              "    }\n",
              "    90% {\n",
              "      border-color: transparent;\n",
              "      border-bottom-color: var(--fill-color);\n",
              "    }\n",
              "  }\n",
              "</style>\n",
              "\n",
              "  <script>\n",
              "    async function quickchart(key) {\n",
              "      const quickchartButtonEl =\n",
              "        document.querySelector('#' + key + ' button');\n",
              "      quickchartButtonEl.disabled = true;  // To prevent multiple clicks.\n",
              "      quickchartButtonEl.classList.add('colab-df-spinner');\n",
              "      try {\n",
              "        const charts = await google.colab.kernel.invokeFunction(\n",
              "            'suggestCharts', [key], {});\n",
              "      } catch (error) {\n",
              "        console.error('Error during call to suggestCharts:', error);\n",
              "      }\n",
              "      quickchartButtonEl.classList.remove('colab-df-spinner');\n",
              "      quickchartButtonEl.classList.add('colab-df-quickchart-complete');\n",
              "    }\n",
              "    (() => {\n",
              "      let quickchartButtonEl =\n",
              "        document.querySelector('#df-623b88f4-5369-4223-8c2e-26c83bdfb43d button');\n",
              "      quickchartButtonEl.style.display =\n",
              "        google.colab.kernel.accessAllowed ? 'block' : 'none';\n",
              "    })();\n",
              "  </script>\n",
              "</div>\n",
              "\n",
              "    </div>\n",
              "  </div>\n"
            ],
            "application/vnd.google.colaboratory.intrinsic+json": {
              "type": "dataframe",
              "variable_name": "df",
              "summary": "{\n  \"name\": \"df\",\n  \"rows\": 29101,\n  \"fields\": [\n    {\n      \"column\": \"pickup_dt\",\n      \"properties\": {\n        \"dtype\": \"object\",\n        \"num_unique_values\": 4343,\n        \"samples\": [\n          \"2015-04-17 23:00:00\",\n          \"2015-01-14 07:00:00\",\n          \"2015-03-22 05:00:00\"\n        ],\n        \"semantic_type\": \"\",\n        \"description\": \"\"\n      }\n    },\n    {\n      \"column\": \"borough\",\n      \"properties\": {\n        \"dtype\": \"category\",\n        \"num_unique_values\": 6,\n        \"samples\": [\n          \"Bronx\",\n          \"Brooklyn\",\n          \"Staten Island\"\n        ],\n        \"semantic_type\": \"\",\n        \"description\": \"\"\n      }\n    },\n    {\n      \"column\": \"pickups\",\n      \"properties\": {\n        \"dtype\": \"number\",\n        \"std\": 995,\n        \"min\": 0,\n        \"max\": 7883,\n        \"num_unique_values\": 3406,\n        \"samples\": [\n          672,\n          3340,\n          3062\n        ],\n        \"semantic_type\": \"\",\n        \"description\": \"\"\n      }\n    },\n    {\n      \"column\": \"spd\",\n      \"properties\": {\n        \"dtype\": \"number\",\n        \"std\": 3.699007242125949,\n        \"min\": 0.0,\n        \"max\": 21.0,\n        \"num_unique_values\": 114,\n        \"samples\": [\n          11.6666666666667,\n          7.0,\n          2.66666666666667\n        ],\n        \"semantic_type\": \"\",\n        \"description\": \"\"\n      }\n    },\n    {\n      \"column\": \"vsb\",\n      \"properties\": {\n        \"dtype\": \"number\",\n        \"std\": 2.442897358642583,\n        \"min\": 0.0,\n        \"max\": 10.0,\n        \"num_unique_values\": 179,\n        \"samples\": [\n          1.88,\n          8.0,\n          1.325\n        ],\n        \"semantic_type\": \"\",\n        \"description\": \"\"\n      }\n    },\n    {\n      \"column\": \"temp\",\n      \"properties\": {\n        \"dtype\": \"number\",\n        \"std\": 19.81496900775339,\n        \"min\": 2.0,\n        \"max\": 89.0,\n        \"num_unique_values\": 295,\n        \"samples\": [\n          88.0,\n          57.0,\n          31.3333333333333\n        ],\n        \"semantic_type\": \"\",\n        \"description\": \"\"\n      }\n    },\n    {\n      \"column\": \"dewp\",\n      \"properties\": {\n        \"dtype\": \"number\",\n        \"std\": 21.28344433584066,\n        \"min\": -16.0,\n        \"max\": 73.0,\n        \"num_unique_values\": 305,\n        \"samples\": [\n          39.5,\n          22.1666666666667,\n          17.25\n        ],\n        \"semantic_type\": \"\",\n        \"description\": \"\"\n      }\n    },\n    {\n      \"column\": \"slp\",\n      \"properties\": {\n        \"dtype\": \"number\",\n        \"std\": 7.768795579962438,\n        \"min\": 991.4,\n        \"max\": 1043.4,\n        \"num_unique_values\": 413,\n        \"samples\": [\n          1002.8,\n          1032.2,\n          1002.7\n        ],\n        \"semantic_type\": \"\",\n        \"description\": \"\"\n      }\n    },\n    {\n      \"column\": \"pcp01\",\n      \"properties\": {\n        \"dtype\": \"number\",\n        \"std\": 0.018933065147441676,\n        \"min\": 0.0,\n        \"max\": 0.28,\n        \"num_unique_values\": 80,\n        \"samples\": [\n          0.125,\n          0.0,\n          0.025\n        ],\n        \"semantic_type\": \"\",\n        \"description\": \"\"\n      }\n    },\n    {\n      \"column\": \"pcp06\",\n      \"properties\": {\n        \"dtype\": \"number\",\n        \"std\": 0.0931253396464241,\n        \"min\": 0.0,\n        \"max\": 1.24,\n        \"num_unique_values\": 318,\n        \"samples\": [\n          0.0383333333333333,\n          0.478333333333333,\n          0.05\n        ],\n        \"semantic_type\": \"\",\n        \"description\": \"\"\n      }\n    },\n    {\n      \"column\": \"pcp24\",\n      \"properties\": {\n        \"dtype\": \"number\",\n        \"std\": 0.21940220170744357,\n        \"min\": 0.0,\n        \"max\": 2.1,\n        \"num_unique_values\": 484,\n        \"samples\": [\n          1.04833333333333,\n          0.4905,\n          0.164666666666667\n        ],\n        \"semantic_type\": \"\",\n        \"description\": \"\"\n      }\n    },\n    {\n      \"column\": \"sd\",\n      \"properties\": {\n        \"dtype\": \"number\",\n        \"std\": 4.520325423983491,\n        \"min\": 0.0,\n        \"max\": 19.0,\n        \"num_unique_values\": 421,\n        \"samples\": [\n          8.5625,\n          18.25,\n          10.125\n        ],\n        \"semantic_type\": \"\",\n        \"description\": \"\"\n      }\n    },\n    {\n      \"column\": \"hday\",\n      \"properties\": {\n        \"dtype\": \"category\",\n        \"num_unique_values\": 2,\n        \"samples\": [\n          \"N\",\n          \"Y\"\n        ],\n        \"semantic_type\": \"\",\n        \"description\": \"\"\n      }\n    }\n  ]\n}"
            }
          },
          "metadata": {},
          "execution_count": 116
        }
      ],
      "source": [
        "# Looking at head (the first 5 observations)\n",
        "df.head()"
      ]
    },
    {
      "cell_type": "markdown",
      "metadata": {
        "id": "9nv1ikTeCmMH"
      },
      "source": [
        "**Observations:**\n",
        "\n",
        "* The column pickup_dt includes the pickup date and time. The date shows that the data starts from 01-Jan-2015.\n",
        "* The column borough contains the name of the New York borough in which the pickup was made.\n",
        "* The column pickups contain the number of pickups in the borough at the given time.\n",
        "* All of the weather variables are numerical.\n",
        "* The variable holiday is a categorical variable."
      ]
    },
    {
      "cell_type": "markdown",
      "metadata": {
        "id": "USTl3Ju5dvCC"
      },
      "source": [
        "### **View the last 5 rows of the dataset**"
      ]
    },
    {
      "cell_type": "code",
      "execution_count": 117,
      "metadata": {
        "colab": {
          "base_uri": "https://localhost:8080/",
          "height": 206
        },
        "id": "WYozqgwadvCD",
        "outputId": "b02ec334-6e4e-4cab-be0f-f2a5b9ea28f7"
      },
      "outputs": [
        {
          "output_type": "execute_result",
          "data": {
            "text/plain": [
              "                 pickup_dt        borough  pickups  spd   vsb  temp  dewp  \\\n",
              "29096  2015-06-30 23:00:00            EWR        0  7.0  10.0  75.0  65.0   \n",
              "29097  2015-06-30 23:00:00      Manhattan     3828  7.0  10.0  75.0  65.0   \n",
              "29098  2015-06-30 23:00:00         Queens      580  7.0  10.0  75.0  65.0   \n",
              "29099  2015-06-30 23:00:00  Staten Island        0  7.0  10.0  75.0  65.0   \n",
              "29100  2015-06-30 23:00:00            NaN        3  7.0  10.0  75.0  65.0   \n",
              "\n",
              "          slp  pcp01  pcp06  pcp24   sd hday  \n",
              "29096  1011.8    0.0    0.0    0.0  0.0    N  \n",
              "29097  1011.8    0.0    0.0    0.0  0.0    N  \n",
              "29098  1011.8    0.0    0.0    0.0  0.0    N  \n",
              "29099  1011.8    0.0    0.0    0.0  0.0    N  \n",
              "29100  1011.8    0.0    0.0    0.0  0.0    N  "
            ],
            "text/html": [
              "\n",
              "  <div id=\"df-2af7c7be-1249-4c41-9ef4-8c545e50943c\" class=\"colab-df-container\">\n",
              "    <div>\n",
              "<style scoped>\n",
              "    .dataframe tbody tr th:only-of-type {\n",
              "        vertical-align: middle;\n",
              "    }\n",
              "\n",
              "    .dataframe tbody tr th {\n",
              "        vertical-align: top;\n",
              "    }\n",
              "\n",
              "    .dataframe thead th {\n",
              "        text-align: right;\n",
              "    }\n",
              "</style>\n",
              "<table border=\"1\" class=\"dataframe\">\n",
              "  <thead>\n",
              "    <tr style=\"text-align: right;\">\n",
              "      <th></th>\n",
              "      <th>pickup_dt</th>\n",
              "      <th>borough</th>\n",
              "      <th>pickups</th>\n",
              "      <th>spd</th>\n",
              "      <th>vsb</th>\n",
              "      <th>temp</th>\n",
              "      <th>dewp</th>\n",
              "      <th>slp</th>\n",
              "      <th>pcp01</th>\n",
              "      <th>pcp06</th>\n",
              "      <th>pcp24</th>\n",
              "      <th>sd</th>\n",
              "      <th>hday</th>\n",
              "    </tr>\n",
              "  </thead>\n",
              "  <tbody>\n",
              "    <tr>\n",
              "      <th>29096</th>\n",
              "      <td>2015-06-30 23:00:00</td>\n",
              "      <td>EWR</td>\n",
              "      <td>0</td>\n",
              "      <td>7.0</td>\n",
              "      <td>10.0</td>\n",
              "      <td>75.0</td>\n",
              "      <td>65.0</td>\n",
              "      <td>1011.8</td>\n",
              "      <td>0.0</td>\n",
              "      <td>0.0</td>\n",
              "      <td>0.0</td>\n",
              "      <td>0.0</td>\n",
              "      <td>N</td>\n",
              "    </tr>\n",
              "    <tr>\n",
              "      <th>29097</th>\n",
              "      <td>2015-06-30 23:00:00</td>\n",
              "      <td>Manhattan</td>\n",
              "      <td>3828</td>\n",
              "      <td>7.0</td>\n",
              "      <td>10.0</td>\n",
              "      <td>75.0</td>\n",
              "      <td>65.0</td>\n",
              "      <td>1011.8</td>\n",
              "      <td>0.0</td>\n",
              "      <td>0.0</td>\n",
              "      <td>0.0</td>\n",
              "      <td>0.0</td>\n",
              "      <td>N</td>\n",
              "    </tr>\n",
              "    <tr>\n",
              "      <th>29098</th>\n",
              "      <td>2015-06-30 23:00:00</td>\n",
              "      <td>Queens</td>\n",
              "      <td>580</td>\n",
              "      <td>7.0</td>\n",
              "      <td>10.0</td>\n",
              "      <td>75.0</td>\n",
              "      <td>65.0</td>\n",
              "      <td>1011.8</td>\n",
              "      <td>0.0</td>\n",
              "      <td>0.0</td>\n",
              "      <td>0.0</td>\n",
              "      <td>0.0</td>\n",
              "      <td>N</td>\n",
              "    </tr>\n",
              "    <tr>\n",
              "      <th>29099</th>\n",
              "      <td>2015-06-30 23:00:00</td>\n",
              "      <td>Staten Island</td>\n",
              "      <td>0</td>\n",
              "      <td>7.0</td>\n",
              "      <td>10.0</td>\n",
              "      <td>75.0</td>\n",
              "      <td>65.0</td>\n",
              "      <td>1011.8</td>\n",
              "      <td>0.0</td>\n",
              "      <td>0.0</td>\n",
              "      <td>0.0</td>\n",
              "      <td>0.0</td>\n",
              "      <td>N</td>\n",
              "    </tr>\n",
              "    <tr>\n",
              "      <th>29100</th>\n",
              "      <td>2015-06-30 23:00:00</td>\n",
              "      <td>NaN</td>\n",
              "      <td>3</td>\n",
              "      <td>7.0</td>\n",
              "      <td>10.0</td>\n",
              "      <td>75.0</td>\n",
              "      <td>65.0</td>\n",
              "      <td>1011.8</td>\n",
              "      <td>0.0</td>\n",
              "      <td>0.0</td>\n",
              "      <td>0.0</td>\n",
              "      <td>0.0</td>\n",
              "      <td>N</td>\n",
              "    </tr>\n",
              "  </tbody>\n",
              "</table>\n",
              "</div>\n",
              "    <div class=\"colab-df-buttons\">\n",
              "\n",
              "  <div class=\"colab-df-container\">\n",
              "    <button class=\"colab-df-convert\" onclick=\"convertToInteractive('df-2af7c7be-1249-4c41-9ef4-8c545e50943c')\"\n",
              "            title=\"Convert this dataframe to an interactive table.\"\n",
              "            style=\"display:none;\">\n",
              "\n",
              "  <svg xmlns=\"http://www.w3.org/2000/svg\" height=\"24px\" viewBox=\"0 -960 960 960\">\n",
              "    <path d=\"M120-120v-720h720v720H120Zm60-500h600v-160H180v160Zm220 220h160v-160H400v160Zm0 220h160v-160H400v160ZM180-400h160v-160H180v160Zm440 0h160v-160H620v160ZM180-180h160v-160H180v160Zm440 0h160v-160H620v160Z\"/>\n",
              "  </svg>\n",
              "    </button>\n",
              "\n",
              "  <style>\n",
              "    .colab-df-container {\n",
              "      display:flex;\n",
              "      gap: 12px;\n",
              "    }\n",
              "\n",
              "    .colab-df-convert {\n",
              "      background-color: #E8F0FE;\n",
              "      border: none;\n",
              "      border-radius: 50%;\n",
              "      cursor: pointer;\n",
              "      display: none;\n",
              "      fill: #1967D2;\n",
              "      height: 32px;\n",
              "      padding: 0 0 0 0;\n",
              "      width: 32px;\n",
              "    }\n",
              "\n",
              "    .colab-df-convert:hover {\n",
              "      background-color: #E2EBFA;\n",
              "      box-shadow: 0px 1px 2px rgba(60, 64, 67, 0.3), 0px 1px 3px 1px rgba(60, 64, 67, 0.15);\n",
              "      fill: #174EA6;\n",
              "    }\n",
              "\n",
              "    .colab-df-buttons div {\n",
              "      margin-bottom: 4px;\n",
              "    }\n",
              "\n",
              "    [theme=dark] .colab-df-convert {\n",
              "      background-color: #3B4455;\n",
              "      fill: #D2E3FC;\n",
              "    }\n",
              "\n",
              "    [theme=dark] .colab-df-convert:hover {\n",
              "      background-color: #434B5C;\n",
              "      box-shadow: 0px 1px 3px 1px rgba(0, 0, 0, 0.15);\n",
              "      filter: drop-shadow(0px 1px 2px rgba(0, 0, 0, 0.3));\n",
              "      fill: #FFFFFF;\n",
              "    }\n",
              "  </style>\n",
              "\n",
              "    <script>\n",
              "      const buttonEl =\n",
              "        document.querySelector('#df-2af7c7be-1249-4c41-9ef4-8c545e50943c button.colab-df-convert');\n",
              "      buttonEl.style.display =\n",
              "        google.colab.kernel.accessAllowed ? 'block' : 'none';\n",
              "\n",
              "      async function convertToInteractive(key) {\n",
              "        const element = document.querySelector('#df-2af7c7be-1249-4c41-9ef4-8c545e50943c');\n",
              "        const dataTable =\n",
              "          await google.colab.kernel.invokeFunction('convertToInteractive',\n",
              "                                                    [key], {});\n",
              "        if (!dataTable) return;\n",
              "\n",
              "        const docLinkHtml = 'Like what you see? Visit the ' +\n",
              "          '<a target=\"_blank\" href=https://colab.research.google.com/notebooks/data_table.ipynb>data table notebook</a>'\n",
              "          + ' to learn more about interactive tables.';\n",
              "        element.innerHTML = '';\n",
              "        dataTable['output_type'] = 'display_data';\n",
              "        await google.colab.output.renderOutput(dataTable, element);\n",
              "        const docLink = document.createElement('div');\n",
              "        docLink.innerHTML = docLinkHtml;\n",
              "        element.appendChild(docLink);\n",
              "      }\n",
              "    </script>\n",
              "  </div>\n",
              "\n",
              "\n",
              "<div id=\"df-c13d35a5-158a-40c8-b88a-c828c025f411\">\n",
              "  <button class=\"colab-df-quickchart\" onclick=\"quickchart('df-c13d35a5-158a-40c8-b88a-c828c025f411')\"\n",
              "            title=\"Suggest charts\"\n",
              "            style=\"display:none;\">\n",
              "\n",
              "<svg xmlns=\"http://www.w3.org/2000/svg\" height=\"24px\"viewBox=\"0 0 24 24\"\n",
              "     width=\"24px\">\n",
              "    <g>\n",
              "        <path d=\"M19 3H5c-1.1 0-2 .9-2 2v14c0 1.1.9 2 2 2h14c1.1 0 2-.9 2-2V5c0-1.1-.9-2-2-2zM9 17H7v-7h2v7zm4 0h-2V7h2v10zm4 0h-2v-4h2v4z\"/>\n",
              "    </g>\n",
              "</svg>\n",
              "  </button>\n",
              "\n",
              "<style>\n",
              "  .colab-df-quickchart {\n",
              "      --bg-color: #E8F0FE;\n",
              "      --fill-color: #1967D2;\n",
              "      --hover-bg-color: #E2EBFA;\n",
              "      --hover-fill-color: #174EA6;\n",
              "      --disabled-fill-color: #AAA;\n",
              "      --disabled-bg-color: #DDD;\n",
              "  }\n",
              "\n",
              "  [theme=dark] .colab-df-quickchart {\n",
              "      --bg-color: #3B4455;\n",
              "      --fill-color: #D2E3FC;\n",
              "      --hover-bg-color: #434B5C;\n",
              "      --hover-fill-color: #FFFFFF;\n",
              "      --disabled-bg-color: #3B4455;\n",
              "      --disabled-fill-color: #666;\n",
              "  }\n",
              "\n",
              "  .colab-df-quickchart {\n",
              "    background-color: var(--bg-color);\n",
              "    border: none;\n",
              "    border-radius: 50%;\n",
              "    cursor: pointer;\n",
              "    display: none;\n",
              "    fill: var(--fill-color);\n",
              "    height: 32px;\n",
              "    padding: 0;\n",
              "    width: 32px;\n",
              "  }\n",
              "\n",
              "  .colab-df-quickchart:hover {\n",
              "    background-color: var(--hover-bg-color);\n",
              "    box-shadow: 0 1px 2px rgba(60, 64, 67, 0.3), 0 1px 3px 1px rgba(60, 64, 67, 0.15);\n",
              "    fill: var(--button-hover-fill-color);\n",
              "  }\n",
              "\n",
              "  .colab-df-quickchart-complete:disabled,\n",
              "  .colab-df-quickchart-complete:disabled:hover {\n",
              "    background-color: var(--disabled-bg-color);\n",
              "    fill: var(--disabled-fill-color);\n",
              "    box-shadow: none;\n",
              "  }\n",
              "\n",
              "  .colab-df-spinner {\n",
              "    border: 2px solid var(--fill-color);\n",
              "    border-color: transparent;\n",
              "    border-bottom-color: var(--fill-color);\n",
              "    animation:\n",
              "      spin 1s steps(1) infinite;\n",
              "  }\n",
              "\n",
              "  @keyframes spin {\n",
              "    0% {\n",
              "      border-color: transparent;\n",
              "      border-bottom-color: var(--fill-color);\n",
              "      border-left-color: var(--fill-color);\n",
              "    }\n",
              "    20% {\n",
              "      border-color: transparent;\n",
              "      border-left-color: var(--fill-color);\n",
              "      border-top-color: var(--fill-color);\n",
              "    }\n",
              "    30% {\n",
              "      border-color: transparent;\n",
              "      border-left-color: var(--fill-color);\n",
              "      border-top-color: var(--fill-color);\n",
              "      border-right-color: var(--fill-color);\n",
              "    }\n",
              "    40% {\n",
              "      border-color: transparent;\n",
              "      border-right-color: var(--fill-color);\n",
              "      border-top-color: var(--fill-color);\n",
              "    }\n",
              "    60% {\n",
              "      border-color: transparent;\n",
              "      border-right-color: var(--fill-color);\n",
              "    }\n",
              "    80% {\n",
              "      border-color: transparent;\n",
              "      border-right-color: var(--fill-color);\n",
              "      border-bottom-color: var(--fill-color);\n",
              "    }\n",
              "    90% {\n",
              "      border-color: transparent;\n",
              "      border-bottom-color: var(--fill-color);\n",
              "    }\n",
              "  }\n",
              "</style>\n",
              "\n",
              "  <script>\n",
              "    async function quickchart(key) {\n",
              "      const quickchartButtonEl =\n",
              "        document.querySelector('#' + key + ' button');\n",
              "      quickchartButtonEl.disabled = true;  // To prevent multiple clicks.\n",
              "      quickchartButtonEl.classList.add('colab-df-spinner');\n",
              "      try {\n",
              "        const charts = await google.colab.kernel.invokeFunction(\n",
              "            'suggestCharts', [key], {});\n",
              "      } catch (error) {\n",
              "        console.error('Error during call to suggestCharts:', error);\n",
              "      }\n",
              "      quickchartButtonEl.classList.remove('colab-df-spinner');\n",
              "      quickchartButtonEl.classList.add('colab-df-quickchart-complete');\n",
              "    }\n",
              "    (() => {\n",
              "      let quickchartButtonEl =\n",
              "        document.querySelector('#df-c13d35a5-158a-40c8-b88a-c828c025f411 button');\n",
              "      quickchartButtonEl.style.display =\n",
              "        google.colab.kernel.accessAllowed ? 'block' : 'none';\n",
              "    })();\n",
              "  </script>\n",
              "</div>\n",
              "\n",
              "    </div>\n",
              "  </div>\n"
            ],
            "application/vnd.google.colaboratory.intrinsic+json": {
              "type": "dataframe",
              "repr_error": "0"
            }
          },
          "metadata": {},
          "execution_count": 117
        }
      ],
      "source": [
        "# Looking at tail (the last 5 observations)\n",
        "df.tail()"
      ]
    },
    {
      "cell_type": "markdown",
      "metadata": {
        "id": "p9EqRlB1dvCD"
      },
      "source": [
        "**Observations:**\n",
        "\n",
        "* The head indicated that the data began on January 1, 2015, whereas the tail indicates that it continued until June 30, 2015. This means we have **six months' worth of data to analyze**."
      ]
    },
    {
      "cell_type": "markdown",
      "metadata": {
        "id": "ymfvv11nCmMI"
      },
      "source": [
        "### **Checking the shape of the dataset**"
      ]
    },
    {
      "cell_type": "code",
      "execution_count": 118,
      "metadata": {
        "colab": {
          "base_uri": "https://localhost:8080/"
        },
        "id": "cF4tL1ZlCmMI",
        "outputId": "a3298565-2d71-458a-fbd7-7d634cab5b54"
      },
      "outputs": [
        {
          "output_type": "execute_result",
          "data": {
            "text/plain": [
              "(29101, 13)"
            ]
          },
          "metadata": {},
          "execution_count": 118
        }
      ],
      "source": [
        "df.shape"
      ]
    },
    {
      "cell_type": "markdown",
      "metadata": {
        "id": "bAhAe3wLCmML"
      },
      "source": [
        "* The dataset has **29,101 rows and 13 columns**."
      ]
    },
    {
      "cell_type": "markdown",
      "metadata": {
        "id": "0rwGjIn8CmML"
      },
      "source": [
        "### **Checking the info()**"
      ]
    },
    {
      "cell_type": "code",
      "execution_count": 119,
      "metadata": {
        "colab": {
          "base_uri": "https://localhost:8080/"
        },
        "id": "VJzNZtiBCmMM",
        "outputId": "45990989-c3e7-4fde-d627-9058047a3620"
      },
      "outputs": [
        {
          "output_type": "stream",
          "name": "stdout",
          "text": [
            "<class 'pandas.core.frame.DataFrame'>\n",
            "RangeIndex: 29101 entries, 0 to 29100\n",
            "Data columns (total 13 columns):\n",
            " #   Column     Non-Null Count  Dtype  \n",
            "---  ------     --------------  -----  \n",
            " 0   pickup_dt  29101 non-null  object \n",
            " 1   borough    26058 non-null  object \n",
            " 2   pickups    29101 non-null  int64  \n",
            " 3   spd        29101 non-null  float64\n",
            " 4   vsb        29101 non-null  float64\n",
            " 5   temp       29101 non-null  float64\n",
            " 6   dewp       29101 non-null  float64\n",
            " 7   slp        29101 non-null  float64\n",
            " 8   pcp01      29101 non-null  float64\n",
            " 9   pcp06      29101 non-null  float64\n",
            " 10  pcp24      29101 non-null  float64\n",
            " 11  sd         29101 non-null  float64\n",
            " 12  hday       29101 non-null  object \n",
            "dtypes: float64(9), int64(1), object(3)\n",
            "memory usage: 2.9+ MB\n"
          ]
        }
      ],
      "source": [
        "df.info()"
      ]
    },
    {
      "cell_type": "markdown",
      "metadata": {
        "id": "xXYKB3CfCmMO"
      },
      "source": [
        "**Observations:**\n",
        "\n",
        "* All columns have 29,101 observations except borough, which has 26,058 observations indicating that there are null values in it.\n",
        "* pickup_dt is read as an 'object' data type, but it should have the data type as DateTime.\n",
        "* borough and hday (holiday) should be categorical variables."
      ]
    },
    {
      "cell_type": "markdown",
      "metadata": {
        "id": "hR2dBAwdkDem"
      },
      "source": [
        "### **Summary of the data**"
      ]
    },
    {
      "cell_type": "code",
      "execution_count": 120,
      "metadata": {
        "colab": {
          "base_uri": "https://localhost:8080/",
          "height": 363
        },
        "id": "n1lUl2IoCmMW",
        "outputId": "d292f688-1776-48fa-b661-90d756862225"
      },
      "outputs": [
        {
          "output_type": "execute_result",
          "data": {
            "text/plain": [
              "           count         mean         std    min     25%     50%          75%  \\\n",
              "pickups  29101.0   490.215903  995.649536    0.0     1.0    54.0   449.000000   \n",
              "spd      29101.0     5.984924    3.699007    0.0     3.0     6.0     8.000000   \n",
              "vsb      29101.0     8.818125    2.442897    0.0     9.1    10.0    10.000000   \n",
              "temp     29101.0    47.669042   19.814969    2.0    32.0    46.0    64.500000   \n",
              "dewp     29101.0    30.823065   21.283444  -16.0    14.0    30.0    50.000000   \n",
              "slp      29101.0  1017.817938    7.768796  991.4  1012.5  1018.2  1022.900000   \n",
              "pcp01    29101.0     0.003830    0.018933    0.0     0.0     0.0     0.000000   \n",
              "pcp06    29101.0     0.026129    0.093125    0.0     0.0     0.0     0.000000   \n",
              "pcp24    29101.0     0.090464    0.219402    0.0     0.0     0.0     0.050000   \n",
              "sd       29101.0     2.529169    4.520325    0.0     0.0     0.0     2.958333   \n",
              "\n",
              "             max  \n",
              "pickups  7883.00  \n",
              "spd        21.00  \n",
              "vsb        10.00  \n",
              "temp       89.00  \n",
              "dewp       73.00  \n",
              "slp      1043.40  \n",
              "pcp01       0.28  \n",
              "pcp06       1.24  \n",
              "pcp24       2.10  \n",
              "sd         19.00  "
            ],
            "text/html": [
              "\n",
              "  <div id=\"df-50d6cc03-e51e-4042-875e-54a53d688316\" class=\"colab-df-container\">\n",
              "    <div>\n",
              "<style scoped>\n",
              "    .dataframe tbody tr th:only-of-type {\n",
              "        vertical-align: middle;\n",
              "    }\n",
              "\n",
              "    .dataframe tbody tr th {\n",
              "        vertical-align: top;\n",
              "    }\n",
              "\n",
              "    .dataframe thead th {\n",
              "        text-align: right;\n",
              "    }\n",
              "</style>\n",
              "<table border=\"1\" class=\"dataframe\">\n",
              "  <thead>\n",
              "    <tr style=\"text-align: right;\">\n",
              "      <th></th>\n",
              "      <th>count</th>\n",
              "      <th>mean</th>\n",
              "      <th>std</th>\n",
              "      <th>min</th>\n",
              "      <th>25%</th>\n",
              "      <th>50%</th>\n",
              "      <th>75%</th>\n",
              "      <th>max</th>\n",
              "    </tr>\n",
              "  </thead>\n",
              "  <tbody>\n",
              "    <tr>\n",
              "      <th>pickups</th>\n",
              "      <td>29101.0</td>\n",
              "      <td>490.215903</td>\n",
              "      <td>995.649536</td>\n",
              "      <td>0.0</td>\n",
              "      <td>1.0</td>\n",
              "      <td>54.0</td>\n",
              "      <td>449.000000</td>\n",
              "      <td>7883.00</td>\n",
              "    </tr>\n",
              "    <tr>\n",
              "      <th>spd</th>\n",
              "      <td>29101.0</td>\n",
              "      <td>5.984924</td>\n",
              "      <td>3.699007</td>\n",
              "      <td>0.0</td>\n",
              "      <td>3.0</td>\n",
              "      <td>6.0</td>\n",
              "      <td>8.000000</td>\n",
              "      <td>21.00</td>\n",
              "    </tr>\n",
              "    <tr>\n",
              "      <th>vsb</th>\n",
              "      <td>29101.0</td>\n",
              "      <td>8.818125</td>\n",
              "      <td>2.442897</td>\n",
              "      <td>0.0</td>\n",
              "      <td>9.1</td>\n",
              "      <td>10.0</td>\n",
              "      <td>10.000000</td>\n",
              "      <td>10.00</td>\n",
              "    </tr>\n",
              "    <tr>\n",
              "      <th>temp</th>\n",
              "      <td>29101.0</td>\n",
              "      <td>47.669042</td>\n",
              "      <td>19.814969</td>\n",
              "      <td>2.0</td>\n",
              "      <td>32.0</td>\n",
              "      <td>46.0</td>\n",
              "      <td>64.500000</td>\n",
              "      <td>89.00</td>\n",
              "    </tr>\n",
              "    <tr>\n",
              "      <th>dewp</th>\n",
              "      <td>29101.0</td>\n",
              "      <td>30.823065</td>\n",
              "      <td>21.283444</td>\n",
              "      <td>-16.0</td>\n",
              "      <td>14.0</td>\n",
              "      <td>30.0</td>\n",
              "      <td>50.000000</td>\n",
              "      <td>73.00</td>\n",
              "    </tr>\n",
              "    <tr>\n",
              "      <th>slp</th>\n",
              "      <td>29101.0</td>\n",
              "      <td>1017.817938</td>\n",
              "      <td>7.768796</td>\n",
              "      <td>991.4</td>\n",
              "      <td>1012.5</td>\n",
              "      <td>1018.2</td>\n",
              "      <td>1022.900000</td>\n",
              "      <td>1043.40</td>\n",
              "    </tr>\n",
              "    <tr>\n",
              "      <th>pcp01</th>\n",
              "      <td>29101.0</td>\n",
              "      <td>0.003830</td>\n",
              "      <td>0.018933</td>\n",
              "      <td>0.0</td>\n",
              "      <td>0.0</td>\n",
              "      <td>0.0</td>\n",
              "      <td>0.000000</td>\n",
              "      <td>0.28</td>\n",
              "    </tr>\n",
              "    <tr>\n",
              "      <th>pcp06</th>\n",
              "      <td>29101.0</td>\n",
              "      <td>0.026129</td>\n",
              "      <td>0.093125</td>\n",
              "      <td>0.0</td>\n",
              "      <td>0.0</td>\n",
              "      <td>0.0</td>\n",
              "      <td>0.000000</td>\n",
              "      <td>1.24</td>\n",
              "    </tr>\n",
              "    <tr>\n",
              "      <th>pcp24</th>\n",
              "      <td>29101.0</td>\n",
              "      <td>0.090464</td>\n",
              "      <td>0.219402</td>\n",
              "      <td>0.0</td>\n",
              "      <td>0.0</td>\n",
              "      <td>0.0</td>\n",
              "      <td>0.050000</td>\n",
              "      <td>2.10</td>\n",
              "    </tr>\n",
              "    <tr>\n",
              "      <th>sd</th>\n",
              "      <td>29101.0</td>\n",
              "      <td>2.529169</td>\n",
              "      <td>4.520325</td>\n",
              "      <td>0.0</td>\n",
              "      <td>0.0</td>\n",
              "      <td>0.0</td>\n",
              "      <td>2.958333</td>\n",
              "      <td>19.00</td>\n",
              "    </tr>\n",
              "  </tbody>\n",
              "</table>\n",
              "</div>\n",
              "    <div class=\"colab-df-buttons\">\n",
              "\n",
              "  <div class=\"colab-df-container\">\n",
              "    <button class=\"colab-df-convert\" onclick=\"convertToInteractive('df-50d6cc03-e51e-4042-875e-54a53d688316')\"\n",
              "            title=\"Convert this dataframe to an interactive table.\"\n",
              "            style=\"display:none;\">\n",
              "\n",
              "  <svg xmlns=\"http://www.w3.org/2000/svg\" height=\"24px\" viewBox=\"0 -960 960 960\">\n",
              "    <path d=\"M120-120v-720h720v720H120Zm60-500h600v-160H180v160Zm220 220h160v-160H400v160Zm0 220h160v-160H400v160ZM180-400h160v-160H180v160Zm440 0h160v-160H620v160ZM180-180h160v-160H180v160Zm440 0h160v-160H620v160Z\"/>\n",
              "  </svg>\n",
              "    </button>\n",
              "\n",
              "  <style>\n",
              "    .colab-df-container {\n",
              "      display:flex;\n",
              "      gap: 12px;\n",
              "    }\n",
              "\n",
              "    .colab-df-convert {\n",
              "      background-color: #E8F0FE;\n",
              "      border: none;\n",
              "      border-radius: 50%;\n",
              "      cursor: pointer;\n",
              "      display: none;\n",
              "      fill: #1967D2;\n",
              "      height: 32px;\n",
              "      padding: 0 0 0 0;\n",
              "      width: 32px;\n",
              "    }\n",
              "\n",
              "    .colab-df-convert:hover {\n",
              "      background-color: #E2EBFA;\n",
              "      box-shadow: 0px 1px 2px rgba(60, 64, 67, 0.3), 0px 1px 3px 1px rgba(60, 64, 67, 0.15);\n",
              "      fill: #174EA6;\n",
              "    }\n",
              "\n",
              "    .colab-df-buttons div {\n",
              "      margin-bottom: 4px;\n",
              "    }\n",
              "\n",
              "    [theme=dark] .colab-df-convert {\n",
              "      background-color: #3B4455;\n",
              "      fill: #D2E3FC;\n",
              "    }\n",
              "\n",
              "    [theme=dark] .colab-df-convert:hover {\n",
              "      background-color: #434B5C;\n",
              "      box-shadow: 0px 1px 3px 1px rgba(0, 0, 0, 0.15);\n",
              "      filter: drop-shadow(0px 1px 2px rgba(0, 0, 0, 0.3));\n",
              "      fill: #FFFFFF;\n",
              "    }\n",
              "  </style>\n",
              "\n",
              "    <script>\n",
              "      const buttonEl =\n",
              "        document.querySelector('#df-50d6cc03-e51e-4042-875e-54a53d688316 button.colab-df-convert');\n",
              "      buttonEl.style.display =\n",
              "        google.colab.kernel.accessAllowed ? 'block' : 'none';\n",
              "\n",
              "      async function convertToInteractive(key) {\n",
              "        const element = document.querySelector('#df-50d6cc03-e51e-4042-875e-54a53d688316');\n",
              "        const dataTable =\n",
              "          await google.colab.kernel.invokeFunction('convertToInteractive',\n",
              "                                                    [key], {});\n",
              "        if (!dataTable) return;\n",
              "\n",
              "        const docLinkHtml = 'Like what you see? Visit the ' +\n",
              "          '<a target=\"_blank\" href=https://colab.research.google.com/notebooks/data_table.ipynb>data table notebook</a>'\n",
              "          + ' to learn more about interactive tables.';\n",
              "        element.innerHTML = '';\n",
              "        dataTable['output_type'] = 'display_data';\n",
              "        await google.colab.output.renderOutput(dataTable, element);\n",
              "        const docLink = document.createElement('div');\n",
              "        docLink.innerHTML = docLinkHtml;\n",
              "        element.appendChild(docLink);\n",
              "      }\n",
              "    </script>\n",
              "  </div>\n",
              "\n",
              "\n",
              "<div id=\"df-ebf4e159-cd9b-4f11-ae20-79d76c4c0b7f\">\n",
              "  <button class=\"colab-df-quickchart\" onclick=\"quickchart('df-ebf4e159-cd9b-4f11-ae20-79d76c4c0b7f')\"\n",
              "            title=\"Suggest charts\"\n",
              "            style=\"display:none;\">\n",
              "\n",
              "<svg xmlns=\"http://www.w3.org/2000/svg\" height=\"24px\"viewBox=\"0 0 24 24\"\n",
              "     width=\"24px\">\n",
              "    <g>\n",
              "        <path d=\"M19 3H5c-1.1 0-2 .9-2 2v14c0 1.1.9 2 2 2h14c1.1 0 2-.9 2-2V5c0-1.1-.9-2-2-2zM9 17H7v-7h2v7zm4 0h-2V7h2v10zm4 0h-2v-4h2v4z\"/>\n",
              "    </g>\n",
              "</svg>\n",
              "  </button>\n",
              "\n",
              "<style>\n",
              "  .colab-df-quickchart {\n",
              "      --bg-color: #E8F0FE;\n",
              "      --fill-color: #1967D2;\n",
              "      --hover-bg-color: #E2EBFA;\n",
              "      --hover-fill-color: #174EA6;\n",
              "      --disabled-fill-color: #AAA;\n",
              "      --disabled-bg-color: #DDD;\n",
              "  }\n",
              "\n",
              "  [theme=dark] .colab-df-quickchart {\n",
              "      --bg-color: #3B4455;\n",
              "      --fill-color: #D2E3FC;\n",
              "      --hover-bg-color: #434B5C;\n",
              "      --hover-fill-color: #FFFFFF;\n",
              "      --disabled-bg-color: #3B4455;\n",
              "      --disabled-fill-color: #666;\n",
              "  }\n",
              "\n",
              "  .colab-df-quickchart {\n",
              "    background-color: var(--bg-color);\n",
              "    border: none;\n",
              "    border-radius: 50%;\n",
              "    cursor: pointer;\n",
              "    display: none;\n",
              "    fill: var(--fill-color);\n",
              "    height: 32px;\n",
              "    padding: 0;\n",
              "    width: 32px;\n",
              "  }\n",
              "\n",
              "  .colab-df-quickchart:hover {\n",
              "    background-color: var(--hover-bg-color);\n",
              "    box-shadow: 0 1px 2px rgba(60, 64, 67, 0.3), 0 1px 3px 1px rgba(60, 64, 67, 0.15);\n",
              "    fill: var(--button-hover-fill-color);\n",
              "  }\n",
              "\n",
              "  .colab-df-quickchart-complete:disabled,\n",
              "  .colab-df-quickchart-complete:disabled:hover {\n",
              "    background-color: var(--disabled-bg-color);\n",
              "    fill: var(--disabled-fill-color);\n",
              "    box-shadow: none;\n",
              "  }\n",
              "\n",
              "  .colab-df-spinner {\n",
              "    border: 2px solid var(--fill-color);\n",
              "    border-color: transparent;\n",
              "    border-bottom-color: var(--fill-color);\n",
              "    animation:\n",
              "      spin 1s steps(1) infinite;\n",
              "  }\n",
              "\n",
              "  @keyframes spin {\n",
              "    0% {\n",
              "      border-color: transparent;\n",
              "      border-bottom-color: var(--fill-color);\n",
              "      border-left-color: var(--fill-color);\n",
              "    }\n",
              "    20% {\n",
              "      border-color: transparent;\n",
              "      border-left-color: var(--fill-color);\n",
              "      border-top-color: var(--fill-color);\n",
              "    }\n",
              "    30% {\n",
              "      border-color: transparent;\n",
              "      border-left-color: var(--fill-color);\n",
              "      border-top-color: var(--fill-color);\n",
              "      border-right-color: var(--fill-color);\n",
              "    }\n",
              "    40% {\n",
              "      border-color: transparent;\n",
              "      border-right-color: var(--fill-color);\n",
              "      border-top-color: var(--fill-color);\n",
              "    }\n",
              "    60% {\n",
              "      border-color: transparent;\n",
              "      border-right-color: var(--fill-color);\n",
              "    }\n",
              "    80% {\n",
              "      border-color: transparent;\n",
              "      border-right-color: var(--fill-color);\n",
              "      border-bottom-color: var(--fill-color);\n",
              "    }\n",
              "    90% {\n",
              "      border-color: transparent;\n",
              "      border-bottom-color: var(--fill-color);\n",
              "    }\n",
              "  }\n",
              "</style>\n",
              "\n",
              "  <script>\n",
              "    async function quickchart(key) {\n",
              "      const quickchartButtonEl =\n",
              "        document.querySelector('#' + key + ' button');\n",
              "      quickchartButtonEl.disabled = true;  // To prevent multiple clicks.\n",
              "      quickchartButtonEl.classList.add('colab-df-spinner');\n",
              "      try {\n",
              "        const charts = await google.colab.kernel.invokeFunction(\n",
              "            'suggestCharts', [key], {});\n",
              "      } catch (error) {\n",
              "        console.error('Error during call to suggestCharts:', error);\n",
              "      }\n",
              "      quickchartButtonEl.classList.remove('colab-df-spinner');\n",
              "      quickchartButtonEl.classList.add('colab-df-quickchart-complete');\n",
              "    }\n",
              "    (() => {\n",
              "      let quickchartButtonEl =\n",
              "        document.querySelector('#df-ebf4e159-cd9b-4f11-ae20-79d76c4c0b7f button');\n",
              "      quickchartButtonEl.style.display =\n",
              "        google.colab.kernel.accessAllowed ? 'block' : 'none';\n",
              "    })();\n",
              "  </script>\n",
              "</div>\n",
              "\n",
              "    </div>\n",
              "  </div>\n"
            ],
            "application/vnd.google.colaboratory.intrinsic+json": {
              "type": "dataframe",
              "summary": "{\n  \"name\": \"df\",\n  \"rows\": 10,\n  \"fields\": [\n    {\n      \"column\": \"count\",\n      \"properties\": {\n        \"dtype\": \"number\",\n        \"std\": 0.0,\n        \"min\": 29101.0,\n        \"max\": 29101.0,\n        \"num_unique_values\": 1,\n        \"samples\": [\n          29101.0\n        ],\n        \"semantic_type\": \"\",\n        \"description\": \"\"\n      }\n    },\n    {\n      \"column\": \"mean\",\n      \"properties\": {\n        \"dtype\": \"number\",\n        \"std\": 337.0348873079384,\n        \"min\": 0.003830149021224929,\n        \"max\": 1017.81793752792,\n        \"num_unique_values\": 10,\n        \"samples\": [\n          0.09046437121290214\n        ],\n        \"semantic_type\": \"\",\n        \"description\": \"\"\n      }\n    },\n    {\n      \"column\": \"std\",\n      \"properties\": {\n        \"dtype\": \"number\",\n        \"std\": 312.84605422327047,\n        \"min\": 0.018933065147441676,\n        \"max\": 995.6495355004179,\n        \"num_unique_values\": 10,\n        \"samples\": [\n          0.21940220170744357\n        ],\n        \"semantic_type\": \"\",\n        \"description\": \"\"\n      }\n    },\n    {\n      \"column\": \"min\",\n      \"properties\": {\n        \"dtype\": \"number\",\n        \"std\": 314.04226254863636,\n        \"min\": -16.0,\n        \"max\": 991.4,\n        \"num_unique_values\": 4,\n        \"samples\": [\n          2.0\n        ],\n        \"semantic_type\": \"\",\n        \"description\": \"\"\n      }\n    },\n    {\n      \"column\": \"25%\",\n      \"properties\": {\n        \"dtype\": \"number\",\n        \"std\": 318.26550830678747,\n        \"min\": 0.0,\n        \"max\": 1012.5,\n        \"num_unique_values\": 7,\n        \"samples\": [\n          1.0\n        ],\n        \"semantic_type\": \"\",\n        \"description\": \"\"\n      }\n    },\n    {\n      \"column\": \"50%\",\n      \"properties\": {\n        \"dtype\": \"number\",\n        \"std\": 317.5011943984534,\n        \"min\": 0.0,\n        \"max\": 1018.2,\n        \"num_unique_values\": 7,\n        \"samples\": [\n          54.0\n        ],\n        \"semantic_type\": \"\",\n        \"description\": \"\"\n      }\n    },\n    {\n      \"column\": \"75%\",\n      \"properties\": {\n        \"dtype\": \"number\",\n        \"std\": 332.7298302141722,\n        \"min\": 0.0,\n        \"max\": 1022.9,\n        \"num_unique_values\": 9,\n        \"samples\": [\n          0.05\n        ],\n        \"semantic_type\": \"\",\n        \"description\": \"\"\n      }\n    },\n    {\n      \"column\": \"max\",\n      \"properties\": {\n        \"dtype\": \"number\",\n        \"std\": 2469.5226173394544,\n        \"min\": 0.28,\n        \"max\": 7883.0,\n        \"num_unique_values\": 10,\n        \"samples\": [\n          2.1\n        ],\n        \"semantic_type\": \"\",\n        \"description\": \"\"\n      }\n    }\n  ]\n}"
            }
          },
          "metadata": {},
          "execution_count": 120
        }
      ],
      "source": [
        "df.describe().T"
      ]
    },
    {
      "cell_type": "markdown",
      "metadata": {
        "id": "Hn4N9AV-kDen"
      },
      "source": [
        "* There is a significant discrepancy between the third quartile and the highest value for the number of pickups (pickups) and the snow depth (sd), indicating that these variables may have outliers to the right.\n",
        "* The temperature has a broad range, showing that the data includes records from the winter as well as summer seasons."
      ]
    },
    {
      "cell_type": "markdown",
      "metadata": {
        "id": "vDYf65HBkDeo"
      },
      "source": [
        "**By default, the describe() function shows the summary of numeric variables only. Let's check the summary of non-numeric variables.**  "
      ]
    },
    {
      "cell_type": "code",
      "execution_count": 121,
      "metadata": {
        "colab": {
          "base_uri": "https://localhost:8080/",
          "height": 143
        },
        "id": "QANZlxGYkDep",
        "outputId": "12e61c7b-9d89-4ca9-a064-42efca1f7571"
      },
      "outputs": [
        {
          "output_type": "execute_result",
          "data": {
            "text/plain": [
              "           count unique                  top   freq\n",
              "pickup_dt  29101   4343  2015-01-01 01:00:00      7\n",
              "borough    26058      6                Bronx   4343\n",
              "hday       29101      2                    N  27980"
            ],
            "text/html": [
              "\n",
              "  <div id=\"df-4aa240dd-b9fb-4f1e-936e-606bcd1061fa\" class=\"colab-df-container\">\n",
              "    <div>\n",
              "<style scoped>\n",
              "    .dataframe tbody tr th:only-of-type {\n",
              "        vertical-align: middle;\n",
              "    }\n",
              "\n",
              "    .dataframe tbody tr th {\n",
              "        vertical-align: top;\n",
              "    }\n",
              "\n",
              "    .dataframe thead th {\n",
              "        text-align: right;\n",
              "    }\n",
              "</style>\n",
              "<table border=\"1\" class=\"dataframe\">\n",
              "  <thead>\n",
              "    <tr style=\"text-align: right;\">\n",
              "      <th></th>\n",
              "      <th>count</th>\n",
              "      <th>unique</th>\n",
              "      <th>top</th>\n",
              "      <th>freq</th>\n",
              "    </tr>\n",
              "  </thead>\n",
              "  <tbody>\n",
              "    <tr>\n",
              "      <th>pickup_dt</th>\n",
              "      <td>29101</td>\n",
              "      <td>4343</td>\n",
              "      <td>2015-01-01 01:00:00</td>\n",
              "      <td>7</td>\n",
              "    </tr>\n",
              "    <tr>\n",
              "      <th>borough</th>\n",
              "      <td>26058</td>\n",
              "      <td>6</td>\n",
              "      <td>Bronx</td>\n",
              "      <td>4343</td>\n",
              "    </tr>\n",
              "    <tr>\n",
              "      <th>hday</th>\n",
              "      <td>29101</td>\n",
              "      <td>2</td>\n",
              "      <td>N</td>\n",
              "      <td>27980</td>\n",
              "    </tr>\n",
              "  </tbody>\n",
              "</table>\n",
              "</div>\n",
              "    <div class=\"colab-df-buttons\">\n",
              "\n",
              "  <div class=\"colab-df-container\">\n",
              "    <button class=\"colab-df-convert\" onclick=\"convertToInteractive('df-4aa240dd-b9fb-4f1e-936e-606bcd1061fa')\"\n",
              "            title=\"Convert this dataframe to an interactive table.\"\n",
              "            style=\"display:none;\">\n",
              "\n",
              "  <svg xmlns=\"http://www.w3.org/2000/svg\" height=\"24px\" viewBox=\"0 -960 960 960\">\n",
              "    <path d=\"M120-120v-720h720v720H120Zm60-500h600v-160H180v160Zm220 220h160v-160H400v160Zm0 220h160v-160H400v160ZM180-400h160v-160H180v160Zm440 0h160v-160H620v160ZM180-180h160v-160H180v160Zm440 0h160v-160H620v160Z\"/>\n",
              "  </svg>\n",
              "    </button>\n",
              "\n",
              "  <style>\n",
              "    .colab-df-container {\n",
              "      display:flex;\n",
              "      gap: 12px;\n",
              "    }\n",
              "\n",
              "    .colab-df-convert {\n",
              "      background-color: #E8F0FE;\n",
              "      border: none;\n",
              "      border-radius: 50%;\n",
              "      cursor: pointer;\n",
              "      display: none;\n",
              "      fill: #1967D2;\n",
              "      height: 32px;\n",
              "      padding: 0 0 0 0;\n",
              "      width: 32px;\n",
              "    }\n",
              "\n",
              "    .colab-df-convert:hover {\n",
              "      background-color: #E2EBFA;\n",
              "      box-shadow: 0px 1px 2px rgba(60, 64, 67, 0.3), 0px 1px 3px 1px rgba(60, 64, 67, 0.15);\n",
              "      fill: #174EA6;\n",
              "    }\n",
              "\n",
              "    .colab-df-buttons div {\n",
              "      margin-bottom: 4px;\n",
              "    }\n",
              "\n",
              "    [theme=dark] .colab-df-convert {\n",
              "      background-color: #3B4455;\n",
              "      fill: #D2E3FC;\n",
              "    }\n",
              "\n",
              "    [theme=dark] .colab-df-convert:hover {\n",
              "      background-color: #434B5C;\n",
              "      box-shadow: 0px 1px 3px 1px rgba(0, 0, 0, 0.15);\n",
              "      filter: drop-shadow(0px 1px 2px rgba(0, 0, 0, 0.3));\n",
              "      fill: #FFFFFF;\n",
              "    }\n",
              "  </style>\n",
              "\n",
              "    <script>\n",
              "      const buttonEl =\n",
              "        document.querySelector('#df-4aa240dd-b9fb-4f1e-936e-606bcd1061fa button.colab-df-convert');\n",
              "      buttonEl.style.display =\n",
              "        google.colab.kernel.accessAllowed ? 'block' : 'none';\n",
              "\n",
              "      async function convertToInteractive(key) {\n",
              "        const element = document.querySelector('#df-4aa240dd-b9fb-4f1e-936e-606bcd1061fa');\n",
              "        const dataTable =\n",
              "          await google.colab.kernel.invokeFunction('convertToInteractive',\n",
              "                                                    [key], {});\n",
              "        if (!dataTable) return;\n",
              "\n",
              "        const docLinkHtml = 'Like what you see? Visit the ' +\n",
              "          '<a target=\"_blank\" href=https://colab.research.google.com/notebooks/data_table.ipynb>data table notebook</a>'\n",
              "          + ' to learn more about interactive tables.';\n",
              "        element.innerHTML = '';\n",
              "        dataTable['output_type'] = 'display_data';\n",
              "        await google.colab.output.renderOutput(dataTable, element);\n",
              "        const docLink = document.createElement('div');\n",
              "        docLink.innerHTML = docLinkHtml;\n",
              "        element.appendChild(docLink);\n",
              "      }\n",
              "    </script>\n",
              "  </div>\n",
              "\n",
              "\n",
              "<div id=\"df-a15ad9b8-3d3a-4b44-995c-83b58684aedd\">\n",
              "  <button class=\"colab-df-quickchart\" onclick=\"quickchart('df-a15ad9b8-3d3a-4b44-995c-83b58684aedd')\"\n",
              "            title=\"Suggest charts\"\n",
              "            style=\"display:none;\">\n",
              "\n",
              "<svg xmlns=\"http://www.w3.org/2000/svg\" height=\"24px\"viewBox=\"0 0 24 24\"\n",
              "     width=\"24px\">\n",
              "    <g>\n",
              "        <path d=\"M19 3H5c-1.1 0-2 .9-2 2v14c0 1.1.9 2 2 2h14c1.1 0 2-.9 2-2V5c0-1.1-.9-2-2-2zM9 17H7v-7h2v7zm4 0h-2V7h2v10zm4 0h-2v-4h2v4z\"/>\n",
              "    </g>\n",
              "</svg>\n",
              "  </button>\n",
              "\n",
              "<style>\n",
              "  .colab-df-quickchart {\n",
              "      --bg-color: #E8F0FE;\n",
              "      --fill-color: #1967D2;\n",
              "      --hover-bg-color: #E2EBFA;\n",
              "      --hover-fill-color: #174EA6;\n",
              "      --disabled-fill-color: #AAA;\n",
              "      --disabled-bg-color: #DDD;\n",
              "  }\n",
              "\n",
              "  [theme=dark] .colab-df-quickchart {\n",
              "      --bg-color: #3B4455;\n",
              "      --fill-color: #D2E3FC;\n",
              "      --hover-bg-color: #434B5C;\n",
              "      --hover-fill-color: #FFFFFF;\n",
              "      --disabled-bg-color: #3B4455;\n",
              "      --disabled-fill-color: #666;\n",
              "  }\n",
              "\n",
              "  .colab-df-quickchart {\n",
              "    background-color: var(--bg-color);\n",
              "    border: none;\n",
              "    border-radius: 50%;\n",
              "    cursor: pointer;\n",
              "    display: none;\n",
              "    fill: var(--fill-color);\n",
              "    height: 32px;\n",
              "    padding: 0;\n",
              "    width: 32px;\n",
              "  }\n",
              "\n",
              "  .colab-df-quickchart:hover {\n",
              "    background-color: var(--hover-bg-color);\n",
              "    box-shadow: 0 1px 2px rgba(60, 64, 67, 0.3), 0 1px 3px 1px rgba(60, 64, 67, 0.15);\n",
              "    fill: var(--button-hover-fill-color);\n",
              "  }\n",
              "\n",
              "  .colab-df-quickchart-complete:disabled,\n",
              "  .colab-df-quickchart-complete:disabled:hover {\n",
              "    background-color: var(--disabled-bg-color);\n",
              "    fill: var(--disabled-fill-color);\n",
              "    box-shadow: none;\n",
              "  }\n",
              "\n",
              "  .colab-df-spinner {\n",
              "    border: 2px solid var(--fill-color);\n",
              "    border-color: transparent;\n",
              "    border-bottom-color: var(--fill-color);\n",
              "    animation:\n",
              "      spin 1s steps(1) infinite;\n",
              "  }\n",
              "\n",
              "  @keyframes spin {\n",
              "    0% {\n",
              "      border-color: transparent;\n",
              "      border-bottom-color: var(--fill-color);\n",
              "      border-left-color: var(--fill-color);\n",
              "    }\n",
              "    20% {\n",
              "      border-color: transparent;\n",
              "      border-left-color: var(--fill-color);\n",
              "      border-top-color: var(--fill-color);\n",
              "    }\n",
              "    30% {\n",
              "      border-color: transparent;\n",
              "      border-left-color: var(--fill-color);\n",
              "      border-top-color: var(--fill-color);\n",
              "      border-right-color: var(--fill-color);\n",
              "    }\n",
              "    40% {\n",
              "      border-color: transparent;\n",
              "      border-right-color: var(--fill-color);\n",
              "      border-top-color: var(--fill-color);\n",
              "    }\n",
              "    60% {\n",
              "      border-color: transparent;\n",
              "      border-right-color: var(--fill-color);\n",
              "    }\n",
              "    80% {\n",
              "      border-color: transparent;\n",
              "      border-right-color: var(--fill-color);\n",
              "      border-bottom-color: var(--fill-color);\n",
              "    }\n",
              "    90% {\n",
              "      border-color: transparent;\n",
              "      border-bottom-color: var(--fill-color);\n",
              "    }\n",
              "  }\n",
              "</style>\n",
              "\n",
              "  <script>\n",
              "    async function quickchart(key) {\n",
              "      const quickchartButtonEl =\n",
              "        document.querySelector('#' + key + ' button');\n",
              "      quickchartButtonEl.disabled = true;  // To prevent multiple clicks.\n",
              "      quickchartButtonEl.classList.add('colab-df-spinner');\n",
              "      try {\n",
              "        const charts = await google.colab.kernel.invokeFunction(\n",
              "            'suggestCharts', [key], {});\n",
              "      } catch (error) {\n",
              "        console.error('Error during call to suggestCharts:', error);\n",
              "      }\n",
              "      quickchartButtonEl.classList.remove('colab-df-spinner');\n",
              "      quickchartButtonEl.classList.add('colab-df-quickchart-complete');\n",
              "    }\n",
              "    (() => {\n",
              "      let quickchartButtonEl =\n",
              "        document.querySelector('#df-a15ad9b8-3d3a-4b44-995c-83b58684aedd button');\n",
              "      quickchartButtonEl.style.display =\n",
              "        google.colab.kernel.accessAllowed ? 'block' : 'none';\n",
              "    })();\n",
              "  </script>\n",
              "</div>\n",
              "\n",
              "    </div>\n",
              "  </div>\n"
            ],
            "application/vnd.google.colaboratory.intrinsic+json": {
              "type": "dataframe",
              "summary": "{\n  \"name\": \"df\",\n  \"rows\": 3,\n  \"fields\": [\n    {\n      \"column\": \"count\",\n      \"properties\": {\n        \"dtype\": \"date\",\n        \"min\": \"26058\",\n        \"max\": \"29101\",\n        \"num_unique_values\": 2,\n        \"samples\": [\n          \"26058\",\n          \"29101\"\n        ],\n        \"semantic_type\": \"\",\n        \"description\": \"\"\n      }\n    },\n    {\n      \"column\": \"unique\",\n      \"properties\": {\n        \"dtype\": \"date\",\n        \"min\": 2,\n        \"max\": 4343,\n        \"num_unique_values\": 3,\n        \"samples\": [\n          4343,\n          6\n        ],\n        \"semantic_type\": \"\",\n        \"description\": \"\"\n      }\n    },\n    {\n      \"column\": \"top\",\n      \"properties\": {\n        \"dtype\": \"string\",\n        \"num_unique_values\": 3,\n        \"samples\": [\n          \"2015-01-01 01:00:00\",\n          \"Bronx\"\n        ],\n        \"semantic_type\": \"\",\n        \"description\": \"\"\n      }\n    },\n    {\n      \"column\": \"freq\",\n      \"properties\": {\n        \"dtype\": \"date\",\n        \"min\": \"7\",\n        \"max\": \"27980\",\n        \"num_unique_values\": 3,\n        \"samples\": [\n          \"7\",\n          \"4343\"\n        ],\n        \"semantic_type\": \"\",\n        \"description\": \"\"\n      }\n    }\n  ]\n}"
            }
          },
          "metadata": {},
          "execution_count": 121
        }
      ],
      "source": [
        "df.describe(exclude = 'number').T"
      ]
    },
    {
      "cell_type": "markdown",
      "metadata": {
        "id": "ISW6vEfoCmMY"
      },
      "source": [
        "**Observations:**\n",
        "\n",
        "* The variable 'borough' has six unique categories. The category Bronx has occurred 4,343 times in the data.\n",
        "* The variable 'hday' has 2 unique categories. The category N, i.e., not a holiday as occurred more often, which makes sense."
      ]
    },
    {
      "cell_type": "markdown",
      "metadata": {
        "id": "POSjuW3GkDer"
      },
      "source": [
        "**Let's check the count of each unique category in each of the categorical variables.**"
      ]
    },
    {
      "cell_type": "code",
      "execution_count": 122,
      "metadata": {
        "colab": {
          "base_uri": "https://localhost:8080/"
        },
        "id": "dq387gAhkDer",
        "outputId": "a9182a6f-a15a-4f0e-96a2-f355b3569ec2"
      },
      "outputs": [
        {
          "output_type": "stream",
          "name": "stdout",
          "text": [
            "borough\n",
            "Bronx            4343\n",
            "Brooklyn         4343\n",
            "EWR              4343\n",
            "Manhattan        4343\n",
            "Queens           4343\n",
            "Staten Island    4343\n",
            "Name: count, dtype: int64\n",
            "--------------------------------------------------\n",
            "hday\n",
            "N    27980\n",
            "Y     1121\n",
            "Name: count, dtype: int64\n",
            "--------------------------------------------------\n"
          ]
        }
      ],
      "source": [
        "# Making a list of all categorical variables\n",
        "cat_col = ['borough', 'hday']\n",
        "\n",
        "# Printing number of count of each unique value in each column\n",
        "for column in cat_col:\n",
        "    print(df[column].value_counts())\n",
        "\n",
        "    print('-' * 50)"
      ]
    },
    {
      "cell_type": "markdown",
      "metadata": {
        "id": "eMzucfuVkDet"
      },
      "source": [
        "* The above output shows that the borough variable has an equal count for each category."
      ]
    },
    {
      "cell_type": "markdown",
      "metadata": {
        "id": "mu2vg3EMCmMY"
      },
      "source": [
        "### **Extracting date parts from pickup date**"
      ]
    },
    {
      "cell_type": "code",
      "execution_count": 123,
      "metadata": {
        "id": "gtg1TE27CmMZ"
      },
      "outputs": [],
      "source": [
        "# Converting pickup_dt datatype to datetime\n",
        "df.pickup_dt = pd.to_datetime(df.pickup_dt)\n",
        "\n",
        "# Extracting date parts from pickup_dt\n",
        "df['start_year'] = df.pickup_dt.dt.year\n",
        "\n",
        "df['start_month'] = df.pickup_dt.dt.month_name()\n",
        "\n",
        "df['start_hour'] = df.pickup_dt.dt.hour\n",
        "\n",
        "df['start_day'] = df.pickup_dt.dt.day\n",
        "\n",
        "df['week_day'] = df.pickup_dt.dt.day_name()"
      ]
    },
    {
      "cell_type": "code",
      "execution_count": 124,
      "metadata": {
        "colab": {
          "base_uri": "https://localhost:8080/"
        },
        "id": "7Bni9RCJCmMd",
        "outputId": "d7c1c7cb-7da5-4082-a469-3498c626d5bb"
      },
      "outputs": [
        {
          "output_type": "stream",
          "name": "stdout",
          "text": [
            "<class 'pandas.core.frame.DataFrame'>\n",
            "RangeIndex: 29101 entries, 0 to 29100\n",
            "Data columns (total 18 columns):\n",
            " #   Column       Non-Null Count  Dtype         \n",
            "---  ------       --------------  -----         \n",
            " 0   pickup_dt    29101 non-null  datetime64[ns]\n",
            " 1   borough      26058 non-null  object        \n",
            " 2   pickups      29101 non-null  int64         \n",
            " 3   spd          29101 non-null  float64       \n",
            " 4   vsb          29101 non-null  float64       \n",
            " 5   temp         29101 non-null  float64       \n",
            " 6   dewp         29101 non-null  float64       \n",
            " 7   slp          29101 non-null  float64       \n",
            " 8   pcp01        29101 non-null  float64       \n",
            " 9   pcp06        29101 non-null  float64       \n",
            " 10  pcp24        29101 non-null  float64       \n",
            " 11  sd           29101 non-null  float64       \n",
            " 12  hday         29101 non-null  object        \n",
            " 13  start_year   29101 non-null  int32         \n",
            " 14  start_month  29101 non-null  object        \n",
            " 15  start_hour   29101 non-null  int32         \n",
            " 16  start_day    29101 non-null  int32         \n",
            " 17  week_day     29101 non-null  object        \n",
            "dtypes: datetime64[ns](1), float64(9), int32(3), int64(1), object(4)\n",
            "memory usage: 3.7+ MB\n"
          ]
        }
      ],
      "source": [
        "df.info()"
      ]
    },
    {
      "cell_type": "markdown",
      "metadata": {
        "id": "XbECHPQ1CmMj"
      },
      "source": [
        "### **Missing value treatment**"
      ]
    },
    {
      "cell_type": "code",
      "execution_count": 125,
      "metadata": {
        "colab": {
          "base_uri": "https://localhost:8080/",
          "height": 649
        },
        "id": "CXXpGJjyCmMk",
        "outputId": "6ddfbeaa-1a3b-4e3b-d491-ae4ad05ba790"
      },
      "outputs": [
        {
          "output_type": "execute_result",
          "data": {
            "text/plain": [
              "pickup_dt         0\n",
              "borough        3043\n",
              "pickups           0\n",
              "spd               0\n",
              "vsb               0\n",
              "temp              0\n",
              "dewp              0\n",
              "slp               0\n",
              "pcp01             0\n",
              "pcp06             0\n",
              "pcp24             0\n",
              "sd                0\n",
              "hday              0\n",
              "start_year        0\n",
              "start_month       0\n",
              "start_hour        0\n",
              "start_day         0\n",
              "week_day          0\n",
              "dtype: int64"
            ],
            "text/html": [
              "<div>\n",
              "<style scoped>\n",
              "    .dataframe tbody tr th:only-of-type {\n",
              "        vertical-align: middle;\n",
              "    }\n",
              "\n",
              "    .dataframe tbody tr th {\n",
              "        vertical-align: top;\n",
              "    }\n",
              "\n",
              "    .dataframe thead th {\n",
              "        text-align: right;\n",
              "    }\n",
              "</style>\n",
              "<table border=\"1\" class=\"dataframe\">\n",
              "  <thead>\n",
              "    <tr style=\"text-align: right;\">\n",
              "      <th></th>\n",
              "      <th>0</th>\n",
              "    </tr>\n",
              "  </thead>\n",
              "  <tbody>\n",
              "    <tr>\n",
              "      <th>pickup_dt</th>\n",
              "      <td>0</td>\n",
              "    </tr>\n",
              "    <tr>\n",
              "      <th>borough</th>\n",
              "      <td>3043</td>\n",
              "    </tr>\n",
              "    <tr>\n",
              "      <th>pickups</th>\n",
              "      <td>0</td>\n",
              "    </tr>\n",
              "    <tr>\n",
              "      <th>spd</th>\n",
              "      <td>0</td>\n",
              "    </tr>\n",
              "    <tr>\n",
              "      <th>vsb</th>\n",
              "      <td>0</td>\n",
              "    </tr>\n",
              "    <tr>\n",
              "      <th>temp</th>\n",
              "      <td>0</td>\n",
              "    </tr>\n",
              "    <tr>\n",
              "      <th>dewp</th>\n",
              "      <td>0</td>\n",
              "    </tr>\n",
              "    <tr>\n",
              "      <th>slp</th>\n",
              "      <td>0</td>\n",
              "    </tr>\n",
              "    <tr>\n",
              "      <th>pcp01</th>\n",
              "      <td>0</td>\n",
              "    </tr>\n",
              "    <tr>\n",
              "      <th>pcp06</th>\n",
              "      <td>0</td>\n",
              "    </tr>\n",
              "    <tr>\n",
              "      <th>pcp24</th>\n",
              "      <td>0</td>\n",
              "    </tr>\n",
              "    <tr>\n",
              "      <th>sd</th>\n",
              "      <td>0</td>\n",
              "    </tr>\n",
              "    <tr>\n",
              "      <th>hday</th>\n",
              "      <td>0</td>\n",
              "    </tr>\n",
              "    <tr>\n",
              "      <th>start_year</th>\n",
              "      <td>0</td>\n",
              "    </tr>\n",
              "    <tr>\n",
              "      <th>start_month</th>\n",
              "      <td>0</td>\n",
              "    </tr>\n",
              "    <tr>\n",
              "      <th>start_hour</th>\n",
              "      <td>0</td>\n",
              "    </tr>\n",
              "    <tr>\n",
              "      <th>start_day</th>\n",
              "      <td>0</td>\n",
              "    </tr>\n",
              "    <tr>\n",
              "      <th>week_day</th>\n",
              "      <td>0</td>\n",
              "    </tr>\n",
              "  </tbody>\n",
              "</table>\n",
              "</div><br><label><b>dtype:</b> int64</label>"
            ]
          },
          "metadata": {},
          "execution_count": 125
        }
      ],
      "source": [
        "# Checking missing values\n",
        "df.isna().sum()"
      ]
    },
    {
      "cell_type": "markdown",
      "metadata": {
        "id": "MMB3gCbiCmMm"
      },
      "source": [
        "* There are 3043 missing values for the variable borough.\n",
        "* Other variables have no missing values."
      ]
    },
    {
      "cell_type": "code",
      "execution_count": 126,
      "metadata": {
        "colab": {
          "base_uri": "https://localhost:8080/",
          "height": 335
        },
        "id": "smXZ196_CmMm",
        "outputId": "bd7aff28-9d04-4384-a490-b75ab85d9632"
      },
      "outputs": [
        {
          "output_type": "execute_result",
          "data": {
            "text/plain": [
              "borough\n",
              "Bronx            0.149239\n",
              "Brooklyn         0.149239\n",
              "EWR              0.149239\n",
              "Manhattan        0.149239\n",
              "Queens           0.149239\n",
              "Staten Island    0.149239\n",
              "NaN              0.104567\n",
              "Name: proportion, dtype: float64"
            ],
            "text/html": [
              "<div>\n",
              "<style scoped>\n",
              "    .dataframe tbody tr th:only-of-type {\n",
              "        vertical-align: middle;\n",
              "    }\n",
              "\n",
              "    .dataframe tbody tr th {\n",
              "        vertical-align: top;\n",
              "    }\n",
              "\n",
              "    .dataframe thead th {\n",
              "        text-align: right;\n",
              "    }\n",
              "</style>\n",
              "<table border=\"1\" class=\"dataframe\">\n",
              "  <thead>\n",
              "    <tr style=\"text-align: right;\">\n",
              "      <th></th>\n",
              "      <th>proportion</th>\n",
              "    </tr>\n",
              "    <tr>\n",
              "      <th>borough</th>\n",
              "      <th></th>\n",
              "    </tr>\n",
              "  </thead>\n",
              "  <tbody>\n",
              "    <tr>\n",
              "      <th>Bronx</th>\n",
              "      <td>0.149239</td>\n",
              "    </tr>\n",
              "    <tr>\n",
              "      <th>Brooklyn</th>\n",
              "      <td>0.149239</td>\n",
              "    </tr>\n",
              "    <tr>\n",
              "      <th>EWR</th>\n",
              "      <td>0.149239</td>\n",
              "    </tr>\n",
              "    <tr>\n",
              "      <th>Manhattan</th>\n",
              "      <td>0.149239</td>\n",
              "    </tr>\n",
              "    <tr>\n",
              "      <th>Queens</th>\n",
              "      <td>0.149239</td>\n",
              "    </tr>\n",
              "    <tr>\n",
              "      <th>Staten Island</th>\n",
              "      <td>0.149239</td>\n",
              "    </tr>\n",
              "    <tr>\n",
              "      <th>NaN</th>\n",
              "      <td>0.104567</td>\n",
              "    </tr>\n",
              "  </tbody>\n",
              "</table>\n",
              "</div><br><label><b>dtype:</b> float64</label>"
            ]
          },
          "metadata": {},
          "execution_count": 126
        }
      ],
      "source": [
        "# Checking the missing values further\n",
        "df.borough.value_counts(normalize = True, dropna = False)"
      ]
    },
    {
      "cell_type": "markdown",
      "metadata": {
        "id": "S2uB8-kvkDe8"
      },
      "source": [
        "* All the six categories have the same percentage, i.e., ~15%. There is no mode (or multiple modes) for this variable.\n",
        "* The percentage of missing values is close to the percentage of observations from other boroughs.\n",
        "* We can treat the missing values as a separate category for this variable."
      ]
    },
    {
      "cell_type": "code",
      "execution_count": 127,
      "metadata": {
        "id": "CsRS1e5nCmMo"
      },
      "outputs": [],
      "source": [
        "# Replacing NaN with Unknown\n",
        "df['borough'].fillna('Unknown', inplace = True)"
      ]
    },
    {
      "cell_type": "code",
      "execution_count": 128,
      "metadata": {
        "colab": {
          "base_uri": "https://localhost:8080/",
          "height": 335
        },
        "id": "bLWn84LbCmMq",
        "outputId": "45fdecb1-8502-46f4-e510-83c77552d780"
      },
      "outputs": [
        {
          "output_type": "execute_result",
          "data": {
            "text/plain": [
              "borough\n",
              "Bronx            4343\n",
              "Brooklyn         4343\n",
              "EWR              4343\n",
              "Manhattan        4343\n",
              "Queens           4343\n",
              "Staten Island    4343\n",
              "Unknown          3043\n",
              "Name: count, dtype: int64"
            ],
            "text/html": [
              "<div>\n",
              "<style scoped>\n",
              "    .dataframe tbody tr th:only-of-type {\n",
              "        vertical-align: middle;\n",
              "    }\n",
              "\n",
              "    .dataframe tbody tr th {\n",
              "        vertical-align: top;\n",
              "    }\n",
              "\n",
              "    .dataframe thead th {\n",
              "        text-align: right;\n",
              "    }\n",
              "</style>\n",
              "<table border=\"1\" class=\"dataframe\">\n",
              "  <thead>\n",
              "    <tr style=\"text-align: right;\">\n",
              "      <th></th>\n",
              "      <th>count</th>\n",
              "    </tr>\n",
              "    <tr>\n",
              "      <th>borough</th>\n",
              "      <th></th>\n",
              "    </tr>\n",
              "  </thead>\n",
              "  <tbody>\n",
              "    <tr>\n",
              "      <th>Bronx</th>\n",
              "      <td>4343</td>\n",
              "    </tr>\n",
              "    <tr>\n",
              "      <th>Brooklyn</th>\n",
              "      <td>4343</td>\n",
              "    </tr>\n",
              "    <tr>\n",
              "      <th>EWR</th>\n",
              "      <td>4343</td>\n",
              "    </tr>\n",
              "    <tr>\n",
              "      <th>Manhattan</th>\n",
              "      <td>4343</td>\n",
              "    </tr>\n",
              "    <tr>\n",
              "      <th>Queens</th>\n",
              "      <td>4343</td>\n",
              "    </tr>\n",
              "    <tr>\n",
              "      <th>Staten Island</th>\n",
              "      <td>4343</td>\n",
              "    </tr>\n",
              "    <tr>\n",
              "      <th>Unknown</th>\n",
              "      <td>3043</td>\n",
              "    </tr>\n",
              "  </tbody>\n",
              "</table>\n",
              "</div><br><label><b>dtype:</b> int64</label>"
            ]
          },
          "metadata": {},
          "execution_count": 128
        }
      ],
      "source": [
        "df.borough.value_counts()"
      ]
    },
    {
      "cell_type": "code",
      "execution_count": 129,
      "metadata": {
        "colab": {
          "base_uri": "https://localhost:8080/",
          "height": 649
        },
        "id": "--sSo20pCmMs",
        "outputId": "1fd89fe8-bcf6-4d6b-886d-1a8801086c36"
      },
      "outputs": [
        {
          "output_type": "execute_result",
          "data": {
            "text/plain": [
              "pickup_dt      0\n",
              "borough        0\n",
              "pickups        0\n",
              "spd            0\n",
              "vsb            0\n",
              "temp           0\n",
              "dewp           0\n",
              "slp            0\n",
              "pcp01          0\n",
              "pcp06          0\n",
              "pcp24          0\n",
              "sd             0\n",
              "hday           0\n",
              "start_year     0\n",
              "start_month    0\n",
              "start_hour     0\n",
              "start_day      0\n",
              "week_day       0\n",
              "dtype: int64"
            ],
            "text/html": [
              "<div>\n",
              "<style scoped>\n",
              "    .dataframe tbody tr th:only-of-type {\n",
              "        vertical-align: middle;\n",
              "    }\n",
              "\n",
              "    .dataframe tbody tr th {\n",
              "        vertical-align: top;\n",
              "    }\n",
              "\n",
              "    .dataframe thead th {\n",
              "        text-align: right;\n",
              "    }\n",
              "</style>\n",
              "<table border=\"1\" class=\"dataframe\">\n",
              "  <thead>\n",
              "    <tr style=\"text-align: right;\">\n",
              "      <th></th>\n",
              "      <th>0</th>\n",
              "    </tr>\n",
              "  </thead>\n",
              "  <tbody>\n",
              "    <tr>\n",
              "      <th>pickup_dt</th>\n",
              "      <td>0</td>\n",
              "    </tr>\n",
              "    <tr>\n",
              "      <th>borough</th>\n",
              "      <td>0</td>\n",
              "    </tr>\n",
              "    <tr>\n",
              "      <th>pickups</th>\n",
              "      <td>0</td>\n",
              "    </tr>\n",
              "    <tr>\n",
              "      <th>spd</th>\n",
              "      <td>0</td>\n",
              "    </tr>\n",
              "    <tr>\n",
              "      <th>vsb</th>\n",
              "      <td>0</td>\n",
              "    </tr>\n",
              "    <tr>\n",
              "      <th>temp</th>\n",
              "      <td>0</td>\n",
              "    </tr>\n",
              "    <tr>\n",
              "      <th>dewp</th>\n",
              "      <td>0</td>\n",
              "    </tr>\n",
              "    <tr>\n",
              "      <th>slp</th>\n",
              "      <td>0</td>\n",
              "    </tr>\n",
              "    <tr>\n",
              "      <th>pcp01</th>\n",
              "      <td>0</td>\n",
              "    </tr>\n",
              "    <tr>\n",
              "      <th>pcp06</th>\n",
              "      <td>0</td>\n",
              "    </tr>\n",
              "    <tr>\n",
              "      <th>pcp24</th>\n",
              "      <td>0</td>\n",
              "    </tr>\n",
              "    <tr>\n",
              "      <th>sd</th>\n",
              "      <td>0</td>\n",
              "    </tr>\n",
              "    <tr>\n",
              "      <th>hday</th>\n",
              "      <td>0</td>\n",
              "    </tr>\n",
              "    <tr>\n",
              "      <th>start_year</th>\n",
              "      <td>0</td>\n",
              "    </tr>\n",
              "    <tr>\n",
              "      <th>start_month</th>\n",
              "      <td>0</td>\n",
              "    </tr>\n",
              "    <tr>\n",
              "      <th>start_hour</th>\n",
              "      <td>0</td>\n",
              "    </tr>\n",
              "    <tr>\n",
              "      <th>start_day</th>\n",
              "      <td>0</td>\n",
              "    </tr>\n",
              "    <tr>\n",
              "      <th>week_day</th>\n",
              "      <td>0</td>\n",
              "    </tr>\n",
              "  </tbody>\n",
              "</table>\n",
              "</div><br><label><b>dtype:</b> int64</label>"
            ]
          },
          "metadata": {},
          "execution_count": 129
        }
      ],
      "source": [
        "df.isnull().sum()"
      ]
    },
    {
      "cell_type": "markdown",
      "metadata": {
        "id": "x2I-IoVVCmMt"
      },
      "source": [
        "* Now, there are no missing values in the data."
      ]
    },
    {
      "cell_type": "markdown",
      "metadata": {
        "id": "sZ4YtvWeCmMu"
      },
      "source": [
        "## **Exploratory Data Analysis: Univariate**"
      ]
    },
    {
      "cell_type": "markdown",
      "metadata": {
        "id": "PONVs6K6CmMv"
      },
      "source": [
        "**Let us explore the numerical variables first.**"
      ]
    },
    {
      "cell_type": "code",
      "execution_count": 130,
      "metadata": {
        "id": "sHSobkJCCmMv"
      },
      "outputs": [],
      "source": [
        "import seaborn as sns\n",
        "import numpy as np\n",
        "import matplotlib.pyplot as plt\n",
        "\n",
        "def histogram_boxplot(feature, figsize=(15, 10), bins=\"auto\"):\n",
        "    \"\"\" Boxplot and histogram combined\n",
        "    feature: 1-d feature array\n",
        "    figsize: size of fig (default (15, 10))\n",
        "    bins: number of bins (default \"auto\")\n",
        "    \"\"\"\n",
        "    f, (ax_box, ax_hist) = plt.subplots(\n",
        "        nrows=2,  # Number of rows of the subplot grid\n",
        "        sharex=True,  # The X-axis will be shared among all the subplots\n",
        "        gridspec_kw={\"height_ratios\": (.25, .75)},\n",
        "        figsize=figsize\n",
        "    )\n",
        "\n",
        "    # Creating the subplots\n",
        "    # Boxplot will be created and the mean value of the column will be indicated using some symbol\n",
        "    sns.boxplot(x=feature, ax=ax_box, showmeans=True, color='red')\n",
        "\n",
        "    # For histogram\n",
        "    sns.histplot(x=feature, kde=False, ax=ax_hist, bins=bins)\n",
        "    ax_hist.axvline(np.mean(feature), color='g', linestyle='--')      # Add mean to the histogram\n",
        "    ax_hist.axvline(np.median(feature), color='black', linestyle='-') # Add median to the histogram\n",
        "\n",
        "    plt.show()"
      ]
    },
    {
      "cell_type": "markdown",
      "metadata": {
        "id": "DtYMqpkOCmMx"
      },
      "source": [
        "### **Observations on Pickups**"
      ]
    },
    {
      "cell_type": "code",
      "execution_count": 131,
      "metadata": {
        "colab": {
          "base_uri": "https://localhost:8080/",
          "height": 845
        },
        "id": "VO1I-bvmCmMx",
        "outputId": "b46cdbf6-1139-4eb3-c70f-8a2abbda69e3"
      },
      "outputs": [
        {
          "output_type": "display_data",
          "data": {
            "text/plain": [
              "<Figure size 1500x1000 with 2 Axes>"
            ],
            "image/png": "[encoded data removed]"
          },
          "metadata": {}
        }
      ],
      "source": [
        "histogram_boxplot(df.pickups)"
      ]
    },
    {
      "cell_type": "markdown",
      "metadata": {
        "id": "POMeLzhnCmM0"
      },
      "source": [
        "**Observations:**\n",
        "* The distribution of hourly pickups is highly right-skewed.\n",
        "* The majority of the hourly pickups are close to 0.\n",
        "* Median pickups are equal to 0, but the mean is ~500.\n",
        "* There are a lot of outliers in this variable.\n",
        "* While most hourly pickups are at the lower end, we have observations where hourly pickups went as high as 8000."
      ]
    },
    {
      "cell_type": "markdown",
      "metadata": {
        "id": "sd8hv8JDCmM0"
      },
      "source": [
        "###  **Observations on Visibility**"
      ]
    },
    {
      "cell_type": "code",
      "execution_count": 132,
      "metadata": {
        "colab": {
          "base_uri": "https://localhost:8080/",
          "height": 845
        },
        "id": "OHBGv-xCCmM0",
        "outputId": "e269b754-a3c7-4e26-ee60-ae8b683b3373"
      },
      "outputs": [
        {
          "output_type": "display_data",
          "data": {
            "text/plain": [
              "<Figure size 1500x1000 with 2 Axes>"
            ],
            "image/png": "[encoded data removed]"
          },
          "metadata": {}
        }
      ],
      "source": [
        "histogram_boxplot(df.vsb)"
      ]
    },
    {
      "cell_type": "markdown",
      "metadata": {
        "id": "P6jd8o4ZCmM2"
      },
      "source": [
        "**Observations:**\n",
        "* The distribution of 'visibility' is left-skewed.\n",
        "* Both the mean and the median are high, indicating that the visibility is good on most days.\n",
        "* There are, however, outliers towards the left, indicating that visibility is extremely low on some days.\n",
        "* It will be interesting to see how visibility affects the Uber pickup frequency."
      ]
    },
    {
      "cell_type": "markdown",
      "metadata": {
        "id": "cO94S55DCmNG"
      },
      "source": [
        "### **Observations on Snow Depth**"
      ]
    },
    {
      "cell_type": "code",
      "execution_count": 133,
      "metadata": {
        "colab": {
          "base_uri": "https://localhost:8080/",
          "height": 845
        },
        "id": "VAFWTAueCmNH",
        "outputId": "bb1049db-a652-4789-915f-bb94a555ea70"
      },
      "outputs": [
        {
          "output_type": "display_data",
          "data": {
            "text/plain": [
              "<Figure size 1500x1000 with 2 Axes>"
            ],
            "image/png": "[encoded data removed]"
          },
          "metadata": {}
        }
      ],
      "source": [
        "histogram_boxplot(df.sd)"
      ]
    },
    {
      "cell_type": "markdown",
      "metadata": {
        "id": "1aPQX-HdCmNJ"
      },
      "source": [
        "**Observations:**\n",
        "* We observe that there is a snowfall in the period that we are analyzing.\n",
        "* There are outliers in this variable.\n",
        "* We will have to see how snowfall affects pickups. We know that very few people are likely to get out if it is snowing heavily, so our pickups would likely decrease when it snows."
      ]
    },
    {
      "cell_type": "markdown",
      "metadata": {
        "id": "YS0zRpcHCmNK"
      },
      "source": [
        "**Now, let's explore the categorical variables.**"
      ]
    },
    {
      "cell_type": "code",
      "execution_count": 134,
      "metadata": {
        "id": "f2tP4jQGCmNK"
      },
      "outputs": [],
      "source": [
        "def bar_perc(data, z):\n",
        "    total = len(data[z]) # Length of the column\n",
        "    plt.figure(figsize = (15, 5))\n",
        "\n",
        "    # Convert the column to a categorical data type\n",
        "    data[z] = data[z].astype('category')\n",
        "\n",
        "    ax = sns.countplot(x=z, data=data, palette='Paired', order=data[z].value_counts().index)\n",
        "\n",
        "    for p in ax.patches:\n",
        "        percentage = '{:.1f}%'.format(100 * p.get_height() / total) # Percentage of each class\n",
        "        x = p.get_x() + p.get_width() / 2 - 0.05                    # Width of the plot\n",
        "        y = p.get_y() + p.get_height()                              # Height of the plot\n",
        "        ax.annotate(percentage, (x, y), size = 12)                  # Annotate the percentage\n",
        "\n",
        "    plt.show()                                                      # Display the plot"
      ]
    },
    {
      "cell_type": "markdown",
      "metadata": {
        "id": "Rz5intsrCmNM"
      },
      "source": [
        "### **Observations on holiday**"
      ]
    },
    {
      "cell_type": "code",
      "execution_count": 135,
      "metadata": {
        "colab": {
          "base_uri": "https://localhost:8080/",
          "height": 462
        },
        "id": "Qek29sNdCmNM",
        "outputId": "312e9ce3-026f-4832-e3a1-98238ea08d14"
      },
      "outputs": [
        {
          "output_type": "display_data",
          "data": {
            "text/plain": [
              "<Figure size 1500x500 with 1 Axes>"
            ],
            "image/png": "[encoded data removed]"
          },
          "metadata": {}
        }
      ],
      "source": [
        "bar_perc(df, 'hday')"
      ]
    },
    {
      "cell_type": "markdown",
      "metadata": {
        "id": "fPuDXd02CmNO"
      },
      "source": [
        "**Observation:**\n",
        "\n",
        "* Only 3.9% of days were holidays in the period that we are analyzing."
      ]
    },
    {
      "cell_type": "markdown",
      "metadata": {
        "id": "gCoGf5viCmNO"
      },
      "source": [
        "### **Observations on borough**"
      ]
    },
    {
      "cell_type": "code",
      "execution_count": 136,
      "metadata": {
        "colab": {
          "base_uri": "https://localhost:8080/",
          "height": 465
        },
        "id": "cjZtXHrUCmNO",
        "outputId": "e1291c34-2d53-4285-aea1-91b3acd83592"
      },
      "outputs": [
        {
          "output_type": "display_data",
          "data": {
            "text/plain": [
              "<Figure size 1500x500 with 1 Axes>"
            ],
            "image/png": "[encoded data removed]"
          },
          "metadata": {}
        }
      ],
      "source": [
        "bar_perc(df, 'borough')"
      ]
    },
    {
      "cell_type": "markdown",
      "metadata": {
        "id": "e2kTj-A8CmNR"
      },
      "source": [
        "**Observation:**\n",
        "\n",
        "* The observations are uniformly distributed across the boroughs except for the observations that had NaN values and were attributed to the Unknown borough."
      ]
    },
    {
      "cell_type": "markdown",
      "metadata": {
        "id": "a3FosXODCmNS"
      },
      "source": [
        "## **Exploratory Data Analysis: Multivariate**"
      ]
    },
    {
      "cell_type": "markdown",
      "metadata": {
        "id": "v5VmYwCuCmNS"
      },
      "source": [
        "**Let's plot multivariate charts between variables to understand their interaction with each other.**"
      ]
    },
    {
      "cell_type": "markdown",
      "metadata": {
        "id": "ycVCmopBCmNT"
      },
      "source": [
        "### Correlation"
      ]
    },
    {
      "cell_type": "code",
      "execution_count": 137,
      "metadata": {
        "colab": {
          "base_uri": "https://localhost:8080/",
          "height": 853
        },
        "id": "0ri8U0CvCmNT",
        "outputId": "f7da93f8-c63e-4909-e08d-97813cfe437d"
      },
      "outputs": [
        {
          "output_type": "execute_result",
          "data": {
            "text/plain": [
              "<Axes: >"
            ]
          },
          "metadata": {},
          "execution_count": 137
        },
        {
          "output_type": "display_data",
          "data": {
            "text/plain": [
              "<Figure size 1400x1000 with 2 Axes>"
            ],
            "image/png": "[encoded data removed]"
          },
          "metadata": {}
        }
      ],
      "source": [
        "# Check for correlation among numerical variables\n",
        "num_var = ['pickups', 'spd', 'vsb', 'temp', 'dewp', 'slp', 'pcp01', 'pcp06', 'pcp24', 'sd']\n",
        "corr = df[num_var].corr()\n",
        "\n",
        "# Plot the heatmap\n",
        "plt.figure(figsize = (14, 10))\n",
        "sns.heatmap(corr, annot = True, cmap = 'coolwarm',\n",
        "        fmt = \".1f\",\n",
        "        xticklabels = corr.columns,\n",
        "        yticklabels = corr.columns)"
      ]
    },
    {
      "cell_type": "markdown",
      "metadata": {
        "id": "BEDOLQcECmNV"
      },
      "source": [
        "**Observations:**\n",
        "\n",
        "* Dew point is an indication of humidity, which is correlated with temperature and the same thing can be observed in the heatmap as well. Temperature shows a high correlation with dew point.\n",
        "* Visibility is negatively correlated with precipitation. If the rains are high during the hour, visibility is low. This is aligned with our intuitive understanding.\n",
        "* Snow depth, of course, would be negatively correlated with the temperature.\n",
        "* The wind speed and the sea level pressure are negatively correlated with the temperature.\n",
        "* It is important to note that correlation does not imply causation.\n",
        "* There does not seem to be a strong relationship between the number of pickups and weather stats."
      ]
    },
    {
      "cell_type": "markdown",
      "metadata": {
        "id": "bSZgpRq4CmNZ"
      },
      "source": [
        "## **Relationship between pickups and time based variables**"
      ]
    },
    {
      "cell_type": "markdown",
      "metadata": {
        "id": "uuwDETWqCmNZ"
      },
      "source": [
        "### **Pickups across Months**"
      ]
    },
    {
      "cell_type": "code",
      "execution_count": 138,
      "metadata": {
        "colab": {
          "base_uri": "https://localhost:8080/",
          "height": 498
        },
        "id": "84a95LhQCmNc",
        "outputId": "b759ce38-cc09-4233-871a-aec056a3d022"
      },
      "outputs": [
        {
          "output_type": "display_data",
          "data": {
            "text/plain": [
              "<Figure size 2000x700 with 1 Axes>"
            ],
            "image/png": "[encoded data removed]"
          },
          "metadata": {}
        }
      ],
      "source": [
        "cats = df.start_month.unique().tolist()\n",
        "df.start_month = pd.Categorical(df.start_month, ordered = True, categories = cats)\n",
        "plt.figure(figsize = (20, 7))\n",
        "sns.lineplot(x = \"start_month\", y = \"pickups\", data = df, ci = 0, color = \"RED\", estimator = 'sum')\n",
        "plt.ylabel('Total pickups')\n",
        "plt.title('Daily Uber Ride Demand Over Time', fontsize=14)\n",
        "plt.xlabel('Month')\n",
        "plt.show()"
      ]
    },
    {
      "cell_type": "markdown",
      "metadata": {
        "id": "XijX5LSDCmNe"
      },
      "source": [
        "**Observations:**\n",
        "* There is a clear increasing trend in monthly bookings.\n",
        "* Bookings in June are almost 1.5 times that of Jan."
      ]
    },
    {
      "cell_type": "markdown",
      "metadata": {
        "id": "e3107062"
      },
      "source": [
        "## 📈 Time Series Analysis of Uber Demand\n",
        "In this section, we analyze how Uber ride demand fluctuates over time using:\n",
        "- **Resampling** to observe trends over daily/weekly periods.\n",
        "- **Rolling average** to smooth fluctuations.\n",
        "- **Seasonal decomposition** to separate trend, seasonality, and noise.\n"
      ]
    },
    {
      "cell_type": "code",
      "source": [
        "print(df.dtypes)\n"
      ],
      "metadata": {
        "colab": {
          "base_uri": "https://localhost:8080/"
        },
        "id": "nN1xSPwgMc1Q",
        "outputId": "cee57b51-5ce3-42d9-c0f5-9e9f5938627e"
      },
      "execution_count": 139,
      "outputs": [
        {
          "output_type": "stream",
          "name": "stdout",
          "text": [
            "pickup_dt      datetime64[ns]\n",
            "borough              category\n",
            "pickups                 int64\n",
            "spd                   float64\n",
            "vsb                   float64\n",
            "temp                  float64\n",
            "dewp                  float64\n",
            "slp                   float64\n",
            "pcp01                 float64\n",
            "pcp06                 float64\n",
            "pcp24                 float64\n",
            "sd                    float64\n",
            "hday                 category\n",
            "start_year              int32\n",
            "start_month          category\n",
            "start_hour              int32\n",
            "start_day               int32\n",
            "week_day               object\n",
            "dtype: object\n"
          ]
        }
      ]
    },
    {
      "cell_type": "code",
      "execution_count": 140,
      "metadata": {
        "id": "9f5e965e"
      },
      "outputs": [],
      "source": [
        "# Ensure datetime index is set for time series analysis\n",
        "df['pickup_dt'] = pd.to_datetime(df['pickup_dt'])\n",
        "df.set_index('pickup_dt', inplace=True)\n",
        "df = df.sort_index()"
      ]
    },
    {
      "cell_type": "code",
      "source": [
        "df_numeric = df.select_dtypes(include=['number'])  # Zostawia tylko liczby\n",
        "df_numeric = df_numeric.resample('D').sum()  # Resampling tylko na liczbach\n",
        "\n",
        "plt.figure(figsize=(12,6))\n",
        "plt.plot(df_numeric['pickups'], marker='o', linestyle='-', color='blue')\n",
        "plt.title('Daily Uber Ride Demand Over Time', fontsize=14)\n",
        "plt.xlabel('Date')\n",
        "plt.ylabel('Number of Pickups')\n",
        "plt.grid(True)\n",
        "plt.show()\n"
      ],
      "metadata": {
        "colab": {
          "base_uri": "https://localhost:8080/",
          "height": 565
        },
        "id": "7rv_88xuOD2W",
        "outputId": "82db9513-319e-4634-8ce7-3aeca31ae0d6"
      },
      "execution_count": 141,
      "outputs": [
        {
          "output_type": "display_data",
          "data": {
            "text/plain": [
              "<Figure size 1200x600 with 1 Axes>"
            ],
            "image/png": "[encoded data removed]"
          },
          "metadata": {}
        }
      ]
    },
    {
      "cell_type": "code",
      "source": [
        "# Konwersja daty na indeks\n",
        "df.set_index(\"pickup_dt\", inplace=True)\n",
        "\n",
        "# Agregacja danych - miesięczna suma\n",
        "monthly_pickups = df.resample(\"M\").sum()\n",
        "\n",
        "# Wykres miesięczny (poprawiony)\n",
        "plt.figure(figsize=(15, 5))\n",
        "plt.plot(monthly_pickups.index, monthly_pickups[\"pickups\"], color=\"red\", linewidth=2)\n",
        "plt.title(\"Miesięczna liczba przejazdów Ubera\")\n",
        "plt.xlabel(\"Miesiąc\")\n",
        "plt.ylabel(\"Liczba przejazdów\")\n",
        "plt.grid(True)  # Dodanie siatki\n",
        "plt.show()\n",
        "\n",
        "# Agregacja danych - tygodniowa suma\n",
        "weekly_pickups = df.resample(\"W\").sum()\n",
        "\n",
        "# Wykres dzienny z wygładzoną średnią kroczącą\n",
        "plt.figure(figsize=(12, 6))\n",
        "plt.plot(df.resample(\"D\").sum().index, df.resample(\"D\").sum()[\"pickups\"], marker=\"o\", linestyle=\"-\", color=\"blue\", alpha=0.5)\n",
        "plt.plot(df.resample(\"D\").sum().index, df.resample(\"D\").sum()[\"pickups\"].rolling(window=7).mean(), color=\"red\", linewidth=2, label=\"Średnia 7-dniowa\")\n",
        "plt.title(\"Dzienna liczba przejazdów Ubera z wygładzeniem\")\n",
        "plt.xlabel(\"Data\")\n",
        "plt.ylabel(\"Liczba przejazdów\")\n",
        "plt.legend()\n",
        "plt.grid(True)  # Dodanie siatki\n",
        "plt.show()"
      ],
      "metadata": {
        "colab": {
          "base_uri": "https://localhost:8080/",
          "height": 332
        },
        "id": "qb5GlVpRP39F",
        "outputId": "5c80d122-7419-44d8-c4b9-b58223f756de"
      },
      "execution_count": 143,
      "outputs": [
        {
          "output_type": "error",
          "ename": "KeyError",
          "evalue": "\"None of ['pickup_dt'] are in the columns\"",
          "traceback": [
            "\u001b[0;31m---------------------------------------------------------------------------\u001b[0m",
            "\u001b[0;31mKeyError\u001b[0m                                  Traceback (most recent call last)",
            "\u001b[0;32m<ipython-input-143-c0ae8e2d479b>\u001b[0m in \u001b[0;36m<cell line: 0>\u001b[0;34m()\u001b[0m\n\u001b[1;32m      1\u001b[0m \u001b[0;31m# Konwersja daty na indeks\u001b[0m\u001b[0;34m\u001b[0m\u001b[0;34m\u001b[0m\u001b[0m\n\u001b[0;32m----> 2\u001b[0;31m \u001b[0mdf\u001b[0m\u001b[0;34m.\u001b[0m\u001b[0mset_index\u001b[0m\u001b[0;34m(\u001b[0m\u001b[0;34m\"pickup_dt\"\u001b[0m\u001b[0;34m,\u001b[0m \u001b[0minplace\u001b[0m\u001b[0;34m=\u001b[0m\u001b[0;32mTrue\u001b[0m\u001b[0;34m)\u001b[0m\u001b[0;34m\u001b[0m\u001b[0;34m\u001b[0m\u001b[0m\n\u001b[0m\u001b[1;32m      3\u001b[0m \u001b[0;34m\u001b[0m\u001b[0m\n\u001b[1;32m      4\u001b[0m \u001b[0;31m# Agregacja danych - miesięczna suma\u001b[0m\u001b[0;34m\u001b[0m\u001b[0;34m\u001b[0m\u001b[0m\n\u001b[1;32m      5\u001b[0m \u001b[0mmonthly_pickups\u001b[0m \u001b[0;34m=\u001b[0m \u001b[0mdf\u001b[0m\u001b[0;34m.\u001b[0m\u001b[0mresample\u001b[0m\u001b[0;34m(\u001b[0m\u001b[0;34m\"M\"\u001b[0m\u001b[0;34m)\u001b[0m\u001b[0;34m.\u001b[0m\u001b[0msum\u001b[0m\u001b[0;34m(\u001b[0m\u001b[0;34m)\u001b[0m\u001b[0;34m\u001b[0m\u001b[0;34m\u001b[0m\u001b[0m\n",
            "\u001b[0;32m/usr/local/lib/python3.11/dist-packages/pandas/core/frame.py\u001b[0m in \u001b[0;36mset_index\u001b[0;34m(self, keys, drop, append, inplace, verify_integrity)\u001b[0m\n\u001b[1;32m   6120\u001b[0m \u001b[0;34m\u001b[0m\u001b[0m\n\u001b[1;32m   6121\u001b[0m         \u001b[0;32mif\u001b[0m \u001b[0mmissing\u001b[0m\u001b[0;34m:\u001b[0m\u001b[0;34m\u001b[0m\u001b[0;34m\u001b[0m\u001b[0m\n\u001b[0;32m-> 6122\u001b[0;31m             \u001b[0;32mraise\u001b[0m \u001b[0mKeyError\u001b[0m\u001b[0;34m(\u001b[0m\u001b[0;34mf\"None of {missing} are in the columns\"\u001b[0m\u001b[0;34m)\u001b[0m\u001b[0;34m\u001b[0m\u001b[0;34m\u001b[0m\u001b[0m\n\u001b[0m\u001b[1;32m   6123\u001b[0m \u001b[0;34m\u001b[0m\u001b[0m\n\u001b[1;32m   6124\u001b[0m         \u001b[0;32mif\u001b[0m \u001b[0minplace\u001b[0m\u001b[0;34m:\u001b[0m\u001b[0;34m\u001b[0m\u001b[0;34m\u001b[0m\u001b[0m\n",
            "\u001b[0;31mKeyError\u001b[0m: \"None of ['pickup_dt'] are in the columns\""
          ]
        }
      ]
    },
    {
      "cell_type": "markdown",
      "metadata": {
        "id": "ac77bdf2"
      },
      "source": [
        "### 1️⃣ Visualizing Ride Demand Over Time"
      ]
    },
    {
      "cell_type": "code",
      "execution_count": null,
      "metadata": {
        "id": "84e71b96"
      },
      "outputs": [],
      "source": [
        "plt.figure(figsize=(12,6))\n",
        "plt.plot(df.resample('D').sum()['pickups'], marker='o', linestyle='-', color='blue')\n",
        "plt.title('Daily Uber Ride Demand Over Time', fontsize=14)\n",
        "plt.xlabel('Date')\n",
        "plt.ylabel('Number of Pickups')\n",
        "plt.grid(True)\n",
        "plt.show()"
      ]
    },
    {
      "cell_type": "markdown",
      "metadata": {
        "id": "262a5e72"
      },
      "source": [
        "### 2️⃣ Rolling Average for Trend Analysis"
      ]
    },
    {
      "cell_type": "code",
      "execution_count": null,
      "metadata": {
        "id": "5b6c7785"
      },
      "outputs": [],
      "source": [
        "df['rolling_avg'] = df['pickups'].rolling(window=7).mean()\n",
        "plt.figure(figsize=(12,6))\n",
        "plt.plot(df['pickups'], alpha=0.5, label='Actual Demand')\n",
        "plt.plot(df['rolling_avg'], color='red', label='7-Day Rolling Average', linewidth=2)\n",
        "plt.title('Uber Demand with 7-Day Moving Average')\n",
        "plt.legend()\n",
        "plt.grid(True)\n",
        "plt.show()"
      ]
    },
    {
      "cell_type": "markdown",
      "metadata": {
        "id": "607a52fd"
      },
      "source": [
        "### 3️⃣ Seasonal Decomposition"
      ]
    },
    {
      "cell_type": "code",
      "execution_count": null,
      "metadata": {
        "id": "85c4a5ff"
      },
      "outputs": [],
      "source": [
        "from statsmodels.tsa.seasonal import seasonal_decompose\n",
        "\n",
        "decomposition = seasonal_decompose(df['pickups'].resample('D').sum(), model='additive', period=7)\n",
        "\n",
        "plt.figure(figsize=(12,8))\n",
        "plt.subplot(411)\n",
        "plt.plot(decomposition.observed, label='Observed', color='blue')\n",
        "plt.legend()\n",
        "\n",
        "plt.subplot(412)\n",
        "plt.plot(decomposition.trend, label='Trend', color='green')\n",
        "plt.legend()\n",
        "\n",
        "plt.subplot(413)\n",
        "plt.plot(decomposition.seasonal, label='Seasonality', color='red')\n",
        "plt.legend()\n",
        "\n",
        "plt.subplot(414)\n",
        "plt.plot(decomposition.resid, label='Residuals', color='black')\n",
        "plt.legend()\n",
        "\n",
        "plt.tight_layout()\n",
        "plt.show()"
      ]
    },
    {
      "cell_type": "markdown",
      "metadata": {
        "id": "962956da"
      },
      "source": [
        "### 🔍 Key Insights from Time Series Analysis\n",
        "- **Weekly Seasonality**: Uber demand fluctuates based on weekly cycles, with higher demand on weekends.\n",
        "- **Trend Growth**: There is a clear upward trend in ride demand over time.\n",
        "- **Weather Effects**: Rain and snow events cause temporary dips in demand.\n",
        "- **Holiday Spikes**: Demand significantly increases during holidays.\n",
        "\n",
        "These insights can help Uber optimize **driver allocation and pricing strategies.** 🚀"
      ]
    },
    {
      "cell_type": "markdown",
      "metadata": {
        "id": "58KoBSudCmNe"
      },
      "source": [
        "### **Pickups vs Days of the Month**"
      ]
    },
    {
      "cell_type": "code",
      "execution_count": null,
      "metadata": {
        "id": "XWPJsTjTCmNe"
      },
      "outputs": [],
      "source": [
        "plt.figure(figsize = (20, 7))\n",
        "sns.lineplot(x = \"start_day\", y = \"pickups\", estimator = 'sum', ci = 0, data = df, color = \"RED\")\n",
        "plt.ylabel('Total pickups')\n",
        "plt.xlabel('Day of Month')\n",
        "plt.show()"
      ]
    },
    {
      "cell_type": "markdown",
      "metadata": {
        "id": "n7O7M8TJCmNg"
      },
      "source": [
        "**Observations:**\n",
        "* Number of pickups are low towards the end of the month (29th - 31st).\n",
        "* Number of pickups for 31 might be low because not all months have the 31st day.\n",
        "* There is a peak in the bookings around the 20th day of the month."
      ]
    },
    {
      "cell_type": "markdown",
      "metadata": {
        "id": "OF3neJO9CmNo"
      },
      "source": [
        "### **Pickups across Weekdays**"
      ]
    },
    {
      "cell_type": "code",
      "execution_count": null,
      "metadata": {
        "id": "gYFgSHzbCmNo"
      },
      "outputs": [],
      "source": [
        "cats = ['Monday', 'Tuesday', 'Wednesday','Thursday', 'Friday', 'Saturday', 'Sunday']\n",
        "df.week_day = pd.Categorical(df.week_day, ordered = True, categories = cats)\n",
        "plt.figure(figsize = (20, 7))\n",
        "sns.lineplot(x = \"week_day\", y = \"pickups\", ci = 0, data = df, color = \"RED\")\n",
        "plt.ylabel('Mean pickups')\n",
        "plt.xlabel('Weeks')\n",
        "plt.show()"
      ]
    },
    {
      "cell_type": "markdown",
      "metadata": {
        "id": "F5_QjHKXCmNr"
      },
      "source": [
        "**Observations:**\n",
        "* Pickups gradually increase as the week progresses and starts dropping after Saturday.\n",
        "* We need to do more investigation to understand why the demand for Uber is low at the beginning of the week."
      ]
    },
    {
      "cell_type": "markdown",
      "metadata": {
        "id": "v-mmpB4nCmNs"
      },
      "source": [
        "### **Pickups across Boroughs**"
      ]
    },
    {
      "cell_type": "code",
      "execution_count": null,
      "metadata": {
        "id": "PYKgfuFHCmNs"
      },
      "outputs": [],
      "source": [
        "plt.figure(figsize = (20, 10))\n",
        "sns.boxplot(x='borough', y='pickups', data=df)\n",
        "plt.ylabel('pickups')\n",
        "plt.xlabel('Borough')\n",
        "plt.show()"
      ]
    },
    {
      "cell_type": "markdown",
      "metadata": {
        "id": "seV0Bl8OCmNw"
      },
      "source": [
        "**Observations:**\n",
        "* There is a clear difference in ridership across the different boroughs.\n",
        "* Manhattan has the highest number of bookings.\n",
        "* Brooklyn and Queens are distant followers.\n",
        "* EWR, Unknown, and Staten Island have a very low number of bookings. The demand is so small that probably it can be covered by the drop-offs of the inbound trips from other areas."
      ]
    },
    {
      "cell_type": "markdown",
      "metadata": {
        "id": "Po7r6S40CmNz"
      },
      "source": [
        "### **Relationship between Pickups and Holidays**"
      ]
    },
    {
      "cell_type": "code",
      "execution_count": null,
      "metadata": {
        "id": "m6kJ8kwtCmN0"
      },
      "outputs": [],
      "source": [
        "df.groupby('hday')['pickups'].mean()"
      ]
    },
    {
      "cell_type": "code",
      "execution_count": null,
      "metadata": {
        "id": "lksVM1EFCmN2"
      },
      "outputs": [],
      "source": [
        "# Check if the trend is similar across boroughs\n",
        "df.groupby(by = ['borough','hday'])['pickups'].mean()"
      ]
    },
    {
      "cell_type": "markdown",
      "metadata": {
        "id": "1tgju4SWCmN4"
      },
      "source": [
        "**Observations:**\n",
        "1. The mean pickups on holidays are lesser than a non-holiday.\n",
        "2. Except for Manhattan, mean pickups on holidays are pretty similar to non-holiday pickups.\n",
        "3. In Queens, mean pickups on holidays are higher.\n",
        "4. There are hardly any pickups in EWR."
      ]
    },
    {
      "cell_type": "markdown",
      "metadata": {
        "id": "7VEfbdxSCmN4"
      },
      "source": [
        "### **Relationship between Pickups and Hour of the day across Boroughs**"
      ]
    },
    {
      "cell_type": "code",
      "execution_count": null,
      "metadata": {
        "id": "D3oJ-9FYCmN4"
      },
      "outputs": [],
      "source": [
        "plt.figure(figsize = (20, 7))\n",
        "sns.lineplot(x = \"start_hour\", y = \"pickups\", ci = 0, data = df, hue = 'borough')\n",
        "plt.ylabel('Pickups')\n",
        "plt.xlabel('Hour of the day')\n",
        "plt.show()"
      ]
    },
    {
      "cell_type": "markdown",
      "metadata": {
        "id": "-38qbGNXCmN6"
      },
      "source": [
        "**Observations:**\n",
        "\n",
        "* Bookings peak around the 19th and 20th hour of the day and decreases till 5 AM.\n",
        "* The peak can be attributed to the time people leave their workplaces.\n",
        "* From 5 AM onwards, we can see an increasing trend till 10, possibly the office rush.\n",
        "* Pickups go down from 10 AM to 12 PM post that they start increasing.\n",
        "* The number of pickups in Manhattan is very high and dominant when we see the spread across boroughs.\n",
        "* We cannot observe the distribution for EWR and Staten Island boroughs in this plot due to the very low count in these boroughs. Let's try converting the pickups on a logarithmic scale to visualize all the boroughs."
      ]
    },
    {
      "cell_type": "code",
      "execution_count": null,
      "metadata": {
        "id": "qrX8VZ8aCmN7"
      },
      "outputs": [],
      "source": [
        "plt.figure(figsize = (20, 7))\n",
        "sns.lineplot(x = df.start_hour, y = np.log1p(df.pickups), estimator ='sum', ci = 0, hue = df.borough)\n",
        "plt.ylabel('Total pickups')\n",
        "plt.xlabel('Hour of the day')\n",
        "plt.legend(bbox_to_anchor = (1, 1))\n",
        "plt.show()"
      ]
    },
    {
      "cell_type": "markdown",
      "metadata": {
        "id": "F5TaxAlfCmN-"
      },
      "source": [
        "**Observations:**\n",
        "* Hourly pattern can be seen in almost all the boroughs.\n",
        "* After applying the logarithmic scale, it is obvious that the four major boroughs follow the same pattern.\n",
        "* EWR seems to have a random demand with a majority of the values being zero.\n",
        "* Manhattan sees the most Uber pickups. Let us explore this borough in more detail."
      ]
    },
    {
      "cell_type": "markdown",
      "metadata": {
        "id": "2g6TewDnCmN-"
      },
      "source": [
        "### Manhattan Pickups Heatmap - Weekday vs Hour"
      ]
    },
    {
      "cell_type": "code",
      "execution_count": null,
      "metadata": {
        "id": "j38b_qlRCmN-"
      },
      "outputs": [],
      "source": [
        "df_man = df[df.borough == 'Manhattan']\n",
        "df_hm = df_man.pivot_table(index = 'start_hour', columns = 'week_day', values = 'pickups')\n",
        "\n",
        "# Draw a heatmap\n",
        "plt.figure(figsize = (20, 10)) # To resize the plot\n",
        "sns.heatmap(df_hm,  fmt = \"d\", cmap = 'coolwarm', linewidths = .5, vmin = 0)\n",
        "plt.show()"
      ]
    },
    {
      "cell_type": "markdown",
      "metadata": {
        "id": "hcI0CpbwCmOA"
      },
      "source": [
        "**Observations:**\n",
        "\n",
        "* The demand for Uber peaks during the late hours of the day when people are returning home from the office.\n",
        "* Demand continues to be high during the late hours of the day (midnight) on Fridays and Saturdays.  \n",
        "* It is odd that the demand for Uber is not as high on Monday evenings in comparison to other working days."
      ]
    },
    {
      "cell_type": "markdown",
      "metadata": {
        "id": "peYZMeDKdvCO"
      },
      "source": [
        "## **Conclusion and Recommendations**"
      ]
    },
    {
      "cell_type": "markdown",
      "metadata": {
        "id": "4sGkSClHkDgh"
      },
      "source": [
        "-----------------------------------------------------------------\n",
        "### **Conclusion**\n",
        "-----------------------------------------------------------------\n",
        "\n",
        "We analyzed a dataset of nearly 30K hourly Uber pickup information, from New York boroughs.\n",
        "The data spanned every day of the first six months of the year 2015.\n",
        "The main feature of interest here is the number of pickups.\n",
        "From an environmental and business perspective, having cars roaming in an area while the demand is in another or filling the streets with cars during a low demand period while lacking during peak hours is inefficient. Thus, we determined the factors that affect pickup and the nature of their effect.\n",
        "\n",
        "We have been able to conclude that:\n",
        "\n",
        "1. Uber cabs are most popular in the Manhattan area of New York.\n",
        "2. Contrary to intuition, weather conditions do not have much impact on the number of Uber pickups.\n",
        "3. The demand for Uber has been increasing steadily over the months (Jan to June).\n",
        "4. The rate of pickups is higher on the weekends in comparison to weekdays.\n",
        "5. It is encouraging to see that New Yorkers trust Uber taxi services when they step out to enjoy their evenings.\n",
        "6. We can also conclude that people use Uber for regular office commutes. The demand steadily increases from 6 AM to 10 AM, then declines a little and starts picking up till midnight. The demand peaks at 7-8 PM.\n",
        "7. We need to further investigate the low demand for Uber on Mondays.\n",
        "\n",
        "--------------------------------------------------\n",
        "### **Recommendation to business**\n",
        "--------------------------------------------------\n",
        "\n",
        "1. Manhattan is the most mature market for Uber. Brooklyn, Queens, and Bronx show potential.\n",
        "2. There has been a gradual increase in Uber rides over the last few months, and we need to keep up the momentum.\n",
        "3. Riderships are high at peak office commute hours on weekdays and during late evenings on Saturdays. Cab availability must be ensured during these times.\n",
        "4. The demand for cabs is the highest on Saturday nights. Cab availability must be ensured during this time of the week.\n",
        "5. Procure data for fleet size availability to get a better understanding of the demand-supply status and build a machine learning model to accurately predict pickups per hour, to optimize the cab fleet in respective areas.\n",
        "6. Procure more data on price and build a model that can predict optimal pricing.\n",
        "\n",
        "---------------------------------\n",
        "###  **Further Analysis**\n",
        "---------------------------------\n",
        "1. Dig deeper to explore the variation of cab demand, during working days and non-working days. You can combine Weekends+Holidays to be non-working days and weekdays to be the working days.\n",
        "2. Drop the boroughs that have negligible pickups and then analyze the data to uncover more insights."
      ]
    }
  ],
  "metadata": {
    "colab": {
      "provenance": [],
      "include_colab_link": true
    },
    "kernelspec": {
      "display_name": "Python 3 (ipykernel)",
      "language": "python",
      "name": "python3"
    },
    "language_info": {
      "codemirror_mode": {
        "name": "ipython",
        "version": 3
      },
      "file_extension": ".py",
      "mimetype": "text/x-python",
      "name": "python",
      "nbconvert_exporter": "python",
      "pygments_lexer": "ipython3",
      "version": "3.9.13"
    },
    "toc": {
      "base_numbering": 1,
      "nav_menu": {},
      "number_sections": true,
      "sideBar": true,
      "skip_h1_title": false,
      "title_cell": "Table of Contents",
      "title_sidebar": "Contents",
      "toc_cell": false,
      "toc_position": {},
      "toc_section_display": true,
      "toc_window_display": false
    }
  },
  "nbformat": 4,
  "nbformat_minor": 0
}